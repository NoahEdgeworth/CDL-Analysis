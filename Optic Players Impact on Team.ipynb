{
 "cells": [
  {
   "cell_type": "code",
   "execution_count": 36,
   "id": "initial_id",
   "metadata": {
    "collapsed": true,
    "ExecuteTime": {
     "end_time": "2024-02-02T21:22:05.044443Z",
     "start_time": "2024-02-02T21:22:05.040577Z"
    }
   },
   "outputs": [],
   "source": [
    "import pandas as pd\n",
    "import numpy as np"
   ]
  },
  {
   "cell_type": "code",
   "execution_count": 37,
   "outputs": [],
   "source": [
    "df_players = pd.read_csv('Series Stats/Player Game by Game_Series Results_Table.csv')\n",
    "df_teams = pd.read_csv('Game by Game Team Stats/Game by Game Results_Series Results_Table.csv')\n"
   ],
   "metadata": {
    "collapsed": false,
    "ExecuteTime": {
     "end_time": "2024-02-02T21:22:06.047237Z",
     "start_time": "2024-02-02T21:22:06.037733Z"
    }
   },
   "id": "2d7d5ff06469aae9"
  },
  {
   "cell_type": "code",
   "execution_count": 64,
   "outputs": [
    {
     "data": {
      "text/plain": "      Player   Team Opponent_x        Date_x  Stage_x  Series ID  Kills  \\\n0       Pred  Optic       Faze  Jan 28, 2024  Stage 1       59.0     73   \n1      Dashy  Optic       Faze  Jan 28, 2024  Stage 1       59.0     54   \n2    Shotzzy  Optic       Faze  Jan 28, 2024  Stage 1       59.0     51   \n3      aBeZy   Faze      Optic  Jan 28, 2024  Stage 1       59.0     71   \n4     Drazah   Faze      Optic  Jan 28, 2024  Stage 1       59.0     61   \n..       ...    ...        ...           ...      ...        ...    ...   \n475   Drazah   Faze      Ultra  Jan 28, 2024      NaN        NaN     17   \n476   CleanX  Ultra       Faze  Jan 28, 2024      NaN        NaN     22   \n477  Insight  Ultra       Faze  Jan 28, 2024      NaN        NaN     12   \n478    Envoy  Ultra       Faze  Jan 28, 2024      NaN        NaN     23   \n479    Scrap  Ultra       Faze  Jan 28, 2024      NaN        NaN     28   \n\n     Deaths   K/D % of Teams Kills % of Teams Deaths        Date_y  Stage_y  \\\n0        66  1.11           31.88%            24.26%  Jan 28, 2024  Stage 1   \n1        61  0.89           23.58%            22.43%  Jan 28, 2024  Stage 1   \n2        72  0.71           22.27%            26.47%  Jan 28, 2024  Stage 1   \n3        59  1.20            26.1%            25.76%  Jan 28, 2024  Stage 1   \n4        61  1.00           22.43%            26.64%  Jan 28, 2024  Stage 1   \n..      ...   ...              ...               ...           ...      ...   \n475      24  0.71           23.94%            28.24%  Jan 28, 2024      NaN   \n476      18  1.22           25.88%            25.35%  Jan 28, 2024      NaN   \n477      16  0.75           14.12%            22.54%  Jan 28, 2024      NaN   \n478      19  1.21           27.06%            26.76%  Jan 28, 2024      NaN   \n479      18  1.56           32.94%            25.35%  Jan 28, 2024      NaN   \n\n    Opponent_y  Maps Won  Maps Lost  Net Kills Win/Loss  \n0         Faze         1          3        -43     Loss  \n1         Faze         1          3        -43     Loss  \n2         Faze         1          3        -43     Loss  \n3        Optic         3          1         43      Win  \n4        Optic         3          1         43      Win  \n..         ...       ...        ...        ...      ...  \n475      Ultra         0          1        -14     Loss  \n476       Faze         1          0         14      Win  \n477       Faze         1          0         14      Win  \n478       Faze         1          0         14      Win  \n479       Faze         1          0         14      Win  \n\n[480 rows x 18 columns]",
      "text/html": "<div>\n<style scoped>\n    .dataframe tbody tr th:only-of-type {\n        vertical-align: middle;\n    }\n\n    .dataframe tbody tr th {\n        vertical-align: top;\n    }\n\n    .dataframe thead th {\n        text-align: right;\n    }\n</style>\n<table border=\"1\" class=\"dataframe\">\n  <thead>\n    <tr style=\"text-align: right;\">\n      <th></th>\n      <th>Player</th>\n      <th>Team</th>\n      <th>Opponent_x</th>\n      <th>Date_x</th>\n      <th>Stage_x</th>\n      <th>Series ID</th>\n      <th>Kills</th>\n      <th>Deaths</th>\n      <th>K/D</th>\n      <th>% of Teams Kills</th>\n      <th>% of Teams Deaths</th>\n      <th>Date_y</th>\n      <th>Stage_y</th>\n      <th>Opponent_y</th>\n      <th>Maps Won</th>\n      <th>Maps Lost</th>\n      <th>Net Kills</th>\n      <th>Win/Loss</th>\n    </tr>\n  </thead>\n  <tbody>\n    <tr>\n      <th>0</th>\n      <td>Pred</td>\n      <td>Optic</td>\n      <td>Faze</td>\n      <td>Jan 28, 2024</td>\n      <td>Stage 1</td>\n      <td>59.0</td>\n      <td>73</td>\n      <td>66</td>\n      <td>1.11</td>\n      <td>31.88%</td>\n      <td>24.26%</td>\n      <td>Jan 28, 2024</td>\n      <td>Stage 1</td>\n      <td>Faze</td>\n      <td>1</td>\n      <td>3</td>\n      <td>-43</td>\n      <td>Loss</td>\n    </tr>\n    <tr>\n      <th>1</th>\n      <td>Dashy</td>\n      <td>Optic</td>\n      <td>Faze</td>\n      <td>Jan 28, 2024</td>\n      <td>Stage 1</td>\n      <td>59.0</td>\n      <td>54</td>\n      <td>61</td>\n      <td>0.89</td>\n      <td>23.58%</td>\n      <td>22.43%</td>\n      <td>Jan 28, 2024</td>\n      <td>Stage 1</td>\n      <td>Faze</td>\n      <td>1</td>\n      <td>3</td>\n      <td>-43</td>\n      <td>Loss</td>\n    </tr>\n    <tr>\n      <th>2</th>\n      <td>Shotzzy</td>\n      <td>Optic</td>\n      <td>Faze</td>\n      <td>Jan 28, 2024</td>\n      <td>Stage 1</td>\n      <td>59.0</td>\n      <td>51</td>\n      <td>72</td>\n      <td>0.71</td>\n      <td>22.27%</td>\n      <td>26.47%</td>\n      <td>Jan 28, 2024</td>\n      <td>Stage 1</td>\n      <td>Faze</td>\n      <td>1</td>\n      <td>3</td>\n      <td>-43</td>\n      <td>Loss</td>\n    </tr>\n    <tr>\n      <th>3</th>\n      <td>aBeZy</td>\n      <td>Faze</td>\n      <td>Optic</td>\n      <td>Jan 28, 2024</td>\n      <td>Stage 1</td>\n      <td>59.0</td>\n      <td>71</td>\n      <td>59</td>\n      <td>1.20</td>\n      <td>26.1%</td>\n      <td>25.76%</td>\n      <td>Jan 28, 2024</td>\n      <td>Stage 1</td>\n      <td>Optic</td>\n      <td>3</td>\n      <td>1</td>\n      <td>43</td>\n      <td>Win</td>\n    </tr>\n    <tr>\n      <th>4</th>\n      <td>Drazah</td>\n      <td>Faze</td>\n      <td>Optic</td>\n      <td>Jan 28, 2024</td>\n      <td>Stage 1</td>\n      <td>59.0</td>\n      <td>61</td>\n      <td>61</td>\n      <td>1.00</td>\n      <td>22.43%</td>\n      <td>26.64%</td>\n      <td>Jan 28, 2024</td>\n      <td>Stage 1</td>\n      <td>Optic</td>\n      <td>3</td>\n      <td>1</td>\n      <td>43</td>\n      <td>Win</td>\n    </tr>\n    <tr>\n      <th>...</th>\n      <td>...</td>\n      <td>...</td>\n      <td>...</td>\n      <td>...</td>\n      <td>...</td>\n      <td>...</td>\n      <td>...</td>\n      <td>...</td>\n      <td>...</td>\n      <td>...</td>\n      <td>...</td>\n      <td>...</td>\n      <td>...</td>\n      <td>...</td>\n      <td>...</td>\n      <td>...</td>\n      <td>...</td>\n      <td>...</td>\n    </tr>\n    <tr>\n      <th>475</th>\n      <td>Drazah</td>\n      <td>Faze</td>\n      <td>Ultra</td>\n      <td>Jan 28, 2024</td>\n      <td>NaN</td>\n      <td>NaN</td>\n      <td>17</td>\n      <td>24</td>\n      <td>0.71</td>\n      <td>23.94%</td>\n      <td>28.24%</td>\n      <td>Jan 28, 2024</td>\n      <td>NaN</td>\n      <td>Ultra</td>\n      <td>0</td>\n      <td>1</td>\n      <td>-14</td>\n      <td>Loss</td>\n    </tr>\n    <tr>\n      <th>476</th>\n      <td>CleanX</td>\n      <td>Ultra</td>\n      <td>Faze</td>\n      <td>Jan 28, 2024</td>\n      <td>NaN</td>\n      <td>NaN</td>\n      <td>22</td>\n      <td>18</td>\n      <td>1.22</td>\n      <td>25.88%</td>\n      <td>25.35%</td>\n      <td>Jan 28, 2024</td>\n      <td>NaN</td>\n      <td>Faze</td>\n      <td>1</td>\n      <td>0</td>\n      <td>14</td>\n      <td>Win</td>\n    </tr>\n    <tr>\n      <th>477</th>\n      <td>Insight</td>\n      <td>Ultra</td>\n      <td>Faze</td>\n      <td>Jan 28, 2024</td>\n      <td>NaN</td>\n      <td>NaN</td>\n      <td>12</td>\n      <td>16</td>\n      <td>0.75</td>\n      <td>14.12%</td>\n      <td>22.54%</td>\n      <td>Jan 28, 2024</td>\n      <td>NaN</td>\n      <td>Faze</td>\n      <td>1</td>\n      <td>0</td>\n      <td>14</td>\n      <td>Win</td>\n    </tr>\n    <tr>\n      <th>478</th>\n      <td>Envoy</td>\n      <td>Ultra</td>\n      <td>Faze</td>\n      <td>Jan 28, 2024</td>\n      <td>NaN</td>\n      <td>NaN</td>\n      <td>23</td>\n      <td>19</td>\n      <td>1.21</td>\n      <td>27.06%</td>\n      <td>26.76%</td>\n      <td>Jan 28, 2024</td>\n      <td>NaN</td>\n      <td>Faze</td>\n      <td>1</td>\n      <td>0</td>\n      <td>14</td>\n      <td>Win</td>\n    </tr>\n    <tr>\n      <th>479</th>\n      <td>Scrap</td>\n      <td>Ultra</td>\n      <td>Faze</td>\n      <td>Jan 28, 2024</td>\n      <td>NaN</td>\n      <td>NaN</td>\n      <td>28</td>\n      <td>18</td>\n      <td>1.56</td>\n      <td>32.94%</td>\n      <td>25.35%</td>\n      <td>Jan 28, 2024</td>\n      <td>NaN</td>\n      <td>Faze</td>\n      <td>1</td>\n      <td>0</td>\n      <td>14</td>\n      <td>Win</td>\n    </tr>\n  </tbody>\n</table>\n<p>480 rows × 18 columns</p>\n</div>"
     },
     "execution_count": 64,
     "metadata": {},
     "output_type": "execute_result"
    }
   ],
   "source": [
    "# Left join based on the \"series ID\" column\n",
    "merged_left = pd.merge(df_players, df_teams, on=['Team', 'Series ID'], how=\"left\")\n",
    "merged_left['Win/Loss'] = np.where(merged_left['Maps Won'] > merged_left['Maps Lost'], 'Win', 'Loss')\n",
    "merged_left"
   ],
   "metadata": {
    "collapsed": false,
    "ExecuteTime": {
     "end_time": "2024-02-03T06:22:56.130859Z",
     "start_time": "2024-02-03T06:22:56.125484Z"
    }
   },
   "id": "d3b6753679f9b702"
  },
  {
   "cell_type": "markdown",
   "source": [
    "What I did above was just merge two tables together. One being a players stats for every game they played in every series. The other table is a Team stats table for each series with some overall info on the series per team. I merged these two so that we can see how each player preformed in each series and how that effected the outcome. To see if there are any players that carry a heavier weight on the teams score when they play good or bad. I also added a Win / Loss column to easily show if the team won the series or lost."
   ],
   "metadata": {
    "collapsed": false
   },
   "id": "98032b54886e88be"
  },
  {
   "cell_type": "markdown",
   "source": [
    "The next analysis I want to do is examine each player on Optic to see how their perfomance effects the teams outcome"
   ],
   "metadata": {
    "collapsed": false
   },
   "id": "80e81c6e81d1c294"
  },
  {
   "cell_type": "code",
   "execution_count": 39,
   "outputs": [
    {
     "data": {
      "text/plain": "      Player   Team    Opponent_x        Date_x  Stage_x  Series ID  Kills  \\\n2    Shotzzy  Optic          Faze  Jan 28, 2024  Stage 1       59.0     51   \n18   Shotzzy  Optic         Rokkr  Jan 28, 2024  Stage 1       57.0     66   \n32   Shotzzy  Optic         Surge  Jan 27, 2024  Stage 1       55.0     68   \n54   Shotzzy  Optic          Faze  Jan 27, 2024  Stage 1       53.0     76   \n110  Shotzzy  Optic      Heretics  Jan 25, 2024  Stage 1       46.0     59   \n140  Shotzzy  Optic          Faze  Jan 21, 2024  Stage 1       42.0     42   \n206  Shotzzy  Optic      Heretics  Jan 19, 2024  Stage 1       34.0     41   \n254  Shotzzy  Optic        Legion  Jan 13, 2024  Stage 1       28.0     63   \n326  Shotzzy  Optic  Royal Ravens  Dec 17, 2023  Stage 1       19.0     46   \n366  Shotzzy  Optic         Surge  Dec 15, 2023  Stage 1       14.0     52   \n390  Shotzzy  Optic         Rokkr  Dec 10, 2023  Stage 1       11.0     82   \n454  Shotzzy  Optic     Subliners   Dec 8, 2023  Stage 1        3.0     86   \n\n     Deaths   K/D % of Teams Kills % of Teams Deaths        Date_y  Stage_y  \\\n2        72  0.71           22.27%            26.47%  Jan 28, 2024  Stage 1   \n18       66  1.00           23.83%            26.83%  Jan 28, 2024  Stage 1   \n32       69  0.99           21.59%            26.95%  Jan 27, 2024  Stage 1   \n54       91  0.84           24.52%            27.08%  Jan 27, 2024  Stage 1   \n110      39  1.51           28.92%            23.49%  Jan 25, 2024  Stage 1   \n140      56  0.75           21.76%            24.89%  Jan 21, 2024  Stage 1   \n206      44  0.93           26.97%            25.14%  Jan 19, 2024  Stage 1   \n254      70  0.90           23.42%            26.52%  Jan 13, 2024  Stage 1   \n326      34  1.35           25.14%            28.33%  Dec 17, 2023  Stage 1   \n366      63  0.83            19.4%             25.3%  Dec 15, 2023  Stage 1   \n390      69  1.19           27.61%            27.49%  Dec 10, 2023  Stage 1   \n454      85  1.01           26.54%            26.81%   Dec 8, 2023  Stage 1   \n\n       Opponent_y  Maps Won  Maps Lost  Net Kills Win/Loss  \n2            Faze         1          3        -43     Loss  \n18          Rokkr         3          1         31      Win  \n32          Surge         3          1         59      Win  \n54           Faze         2          3        -26     Loss  \n110      Heretics         3          0         38      Win  \n140          Faze         0          3        -32     Loss  \n206      Heretics         0          3        -23     Loss  \n254        Legion         3          2          5      Win  \n326  Royal Ravens         3          0         63      Win  \n366         Surge         3          1         19      Win  \n390         Rokkr         3          1         46      Win  \n454     Subliners         2          3          7     Loss  ",
      "text/html": "<div>\n<style scoped>\n    .dataframe tbody tr th:only-of-type {\n        vertical-align: middle;\n    }\n\n    .dataframe tbody tr th {\n        vertical-align: top;\n    }\n\n    .dataframe thead th {\n        text-align: right;\n    }\n</style>\n<table border=\"1\" class=\"dataframe\">\n  <thead>\n    <tr style=\"text-align: right;\">\n      <th></th>\n      <th>Player</th>\n      <th>Team</th>\n      <th>Opponent_x</th>\n      <th>Date_x</th>\n      <th>Stage_x</th>\n      <th>Series ID</th>\n      <th>Kills</th>\n      <th>Deaths</th>\n      <th>K/D</th>\n      <th>% of Teams Kills</th>\n      <th>% of Teams Deaths</th>\n      <th>Date_y</th>\n      <th>Stage_y</th>\n      <th>Opponent_y</th>\n      <th>Maps Won</th>\n      <th>Maps Lost</th>\n      <th>Net Kills</th>\n      <th>Win/Loss</th>\n    </tr>\n  </thead>\n  <tbody>\n    <tr>\n      <th>2</th>\n      <td>Shotzzy</td>\n      <td>Optic</td>\n      <td>Faze</td>\n      <td>Jan 28, 2024</td>\n      <td>Stage 1</td>\n      <td>59.0</td>\n      <td>51</td>\n      <td>72</td>\n      <td>0.71</td>\n      <td>22.27%</td>\n      <td>26.47%</td>\n      <td>Jan 28, 2024</td>\n      <td>Stage 1</td>\n      <td>Faze</td>\n      <td>1</td>\n      <td>3</td>\n      <td>-43</td>\n      <td>Loss</td>\n    </tr>\n    <tr>\n      <th>18</th>\n      <td>Shotzzy</td>\n      <td>Optic</td>\n      <td>Rokkr</td>\n      <td>Jan 28, 2024</td>\n      <td>Stage 1</td>\n      <td>57.0</td>\n      <td>66</td>\n      <td>66</td>\n      <td>1.00</td>\n      <td>23.83%</td>\n      <td>26.83%</td>\n      <td>Jan 28, 2024</td>\n      <td>Stage 1</td>\n      <td>Rokkr</td>\n      <td>3</td>\n      <td>1</td>\n      <td>31</td>\n      <td>Win</td>\n    </tr>\n    <tr>\n      <th>32</th>\n      <td>Shotzzy</td>\n      <td>Optic</td>\n      <td>Surge</td>\n      <td>Jan 27, 2024</td>\n      <td>Stage 1</td>\n      <td>55.0</td>\n      <td>68</td>\n      <td>69</td>\n      <td>0.99</td>\n      <td>21.59%</td>\n      <td>26.95%</td>\n      <td>Jan 27, 2024</td>\n      <td>Stage 1</td>\n      <td>Surge</td>\n      <td>3</td>\n      <td>1</td>\n      <td>59</td>\n      <td>Win</td>\n    </tr>\n    <tr>\n      <th>54</th>\n      <td>Shotzzy</td>\n      <td>Optic</td>\n      <td>Faze</td>\n      <td>Jan 27, 2024</td>\n      <td>Stage 1</td>\n      <td>53.0</td>\n      <td>76</td>\n      <td>91</td>\n      <td>0.84</td>\n      <td>24.52%</td>\n      <td>27.08%</td>\n      <td>Jan 27, 2024</td>\n      <td>Stage 1</td>\n      <td>Faze</td>\n      <td>2</td>\n      <td>3</td>\n      <td>-26</td>\n      <td>Loss</td>\n    </tr>\n    <tr>\n      <th>110</th>\n      <td>Shotzzy</td>\n      <td>Optic</td>\n      <td>Heretics</td>\n      <td>Jan 25, 2024</td>\n      <td>Stage 1</td>\n      <td>46.0</td>\n      <td>59</td>\n      <td>39</td>\n      <td>1.51</td>\n      <td>28.92%</td>\n      <td>23.49%</td>\n      <td>Jan 25, 2024</td>\n      <td>Stage 1</td>\n      <td>Heretics</td>\n      <td>3</td>\n      <td>0</td>\n      <td>38</td>\n      <td>Win</td>\n    </tr>\n    <tr>\n      <th>140</th>\n      <td>Shotzzy</td>\n      <td>Optic</td>\n      <td>Faze</td>\n      <td>Jan 21, 2024</td>\n      <td>Stage 1</td>\n      <td>42.0</td>\n      <td>42</td>\n      <td>56</td>\n      <td>0.75</td>\n      <td>21.76%</td>\n      <td>24.89%</td>\n      <td>Jan 21, 2024</td>\n      <td>Stage 1</td>\n      <td>Faze</td>\n      <td>0</td>\n      <td>3</td>\n      <td>-32</td>\n      <td>Loss</td>\n    </tr>\n    <tr>\n      <th>206</th>\n      <td>Shotzzy</td>\n      <td>Optic</td>\n      <td>Heretics</td>\n      <td>Jan 19, 2024</td>\n      <td>Stage 1</td>\n      <td>34.0</td>\n      <td>41</td>\n      <td>44</td>\n      <td>0.93</td>\n      <td>26.97%</td>\n      <td>25.14%</td>\n      <td>Jan 19, 2024</td>\n      <td>Stage 1</td>\n      <td>Heretics</td>\n      <td>0</td>\n      <td>3</td>\n      <td>-23</td>\n      <td>Loss</td>\n    </tr>\n    <tr>\n      <th>254</th>\n      <td>Shotzzy</td>\n      <td>Optic</td>\n      <td>Legion</td>\n      <td>Jan 13, 2024</td>\n      <td>Stage 1</td>\n      <td>28.0</td>\n      <td>63</td>\n      <td>70</td>\n      <td>0.90</td>\n      <td>23.42%</td>\n      <td>26.52%</td>\n      <td>Jan 13, 2024</td>\n      <td>Stage 1</td>\n      <td>Legion</td>\n      <td>3</td>\n      <td>2</td>\n      <td>5</td>\n      <td>Win</td>\n    </tr>\n    <tr>\n      <th>326</th>\n      <td>Shotzzy</td>\n      <td>Optic</td>\n      <td>Royal Ravens</td>\n      <td>Dec 17, 2023</td>\n      <td>Stage 1</td>\n      <td>19.0</td>\n      <td>46</td>\n      <td>34</td>\n      <td>1.35</td>\n      <td>25.14%</td>\n      <td>28.33%</td>\n      <td>Dec 17, 2023</td>\n      <td>Stage 1</td>\n      <td>Royal Ravens</td>\n      <td>3</td>\n      <td>0</td>\n      <td>63</td>\n      <td>Win</td>\n    </tr>\n    <tr>\n      <th>366</th>\n      <td>Shotzzy</td>\n      <td>Optic</td>\n      <td>Surge</td>\n      <td>Dec 15, 2023</td>\n      <td>Stage 1</td>\n      <td>14.0</td>\n      <td>52</td>\n      <td>63</td>\n      <td>0.83</td>\n      <td>19.4%</td>\n      <td>25.3%</td>\n      <td>Dec 15, 2023</td>\n      <td>Stage 1</td>\n      <td>Surge</td>\n      <td>3</td>\n      <td>1</td>\n      <td>19</td>\n      <td>Win</td>\n    </tr>\n    <tr>\n      <th>390</th>\n      <td>Shotzzy</td>\n      <td>Optic</td>\n      <td>Rokkr</td>\n      <td>Dec 10, 2023</td>\n      <td>Stage 1</td>\n      <td>11.0</td>\n      <td>82</td>\n      <td>69</td>\n      <td>1.19</td>\n      <td>27.61%</td>\n      <td>27.49%</td>\n      <td>Dec 10, 2023</td>\n      <td>Stage 1</td>\n      <td>Rokkr</td>\n      <td>3</td>\n      <td>1</td>\n      <td>46</td>\n      <td>Win</td>\n    </tr>\n    <tr>\n      <th>454</th>\n      <td>Shotzzy</td>\n      <td>Optic</td>\n      <td>Subliners</td>\n      <td>Dec 8, 2023</td>\n      <td>Stage 1</td>\n      <td>3.0</td>\n      <td>86</td>\n      <td>85</td>\n      <td>1.01</td>\n      <td>26.54%</td>\n      <td>26.81%</td>\n      <td>Dec 8, 2023</td>\n      <td>Stage 1</td>\n      <td>Subliners</td>\n      <td>2</td>\n      <td>3</td>\n      <td>7</td>\n      <td>Loss</td>\n    </tr>\n  </tbody>\n</table>\n</div>"
     },
     "execution_count": 39,
     "metadata": {},
     "output_type": "execute_result"
    }
   ],
   "source": [
    "# We will start with Shotzzy\n",
    "shotzzy_df = merged_left[merged_left['Player']=='Shotzzy']\n",
    "shotzzy_df"
   ],
   "metadata": {
    "collapsed": false,
    "ExecuteTime": {
     "end_time": "2024-02-02T21:23:48.375584Z",
     "start_time": "2024-02-02T21:23:48.372728Z"
    }
   },
   "id": "b48dbefecd8f6d09"
  },
  {
   "cell_type": "code",
   "execution_count": 46,
   "outputs": [
    {
     "data": {
      "text/plain": "1.0176041666666666"
     },
     "execution_count": 46,
     "metadata": {},
     "output_type": "execute_result"
    }
   ],
   "source": [
    "# This is just getting the league average of KD across Major 1\n",
    "average_kd = merged_left['K/D'].mean()\n",
    "average_kd"
   ],
   "metadata": {
    "collapsed": false,
    "ExecuteTime": {
     "end_time": "2024-02-02T21:32:35.605850Z",
     "start_time": "2024-02-02T21:32:35.600835Z"
    }
   },
   "id": "66bbe9e7c01613cd"
  },
  {
   "cell_type": "code",
   "execution_count": 90,
   "outputs": [
    {
     "data": {
      "text/plain": "62.50208333333333"
     },
     "execution_count": 90,
     "metadata": {},
     "output_type": "execute_result"
    }
   ],
   "source": [
    "average_kills_series = merged_left['Kills'].mean()\n",
    "average_kills_series"
   ],
   "metadata": {
    "collapsed": false,
    "ExecuteTime": {
     "end_time": "2024-02-03T20:00:41.802370Z",
     "start_time": "2024-02-03T20:00:41.787965Z"
    }
   },
   "id": "64c4997abda50288"
  },
  {
   "cell_type": "code",
   "execution_count": 65,
   "outputs": [],
   "source": [
    "# This code is simply removing the % from the columns to be able to convert to numeric value\n",
    "merged_left['% of Teams Kills'] = merged_left['% of Teams Kills'].str.replace('%','')\n",
    "merged_left['% of Teams Deaths'] = merged_left['% of Teams Deaths'].str.replace('%','')\n",
    "# This code converts the columns to numeric values to be able to take the average \n",
    "merged_left['% of Teams Kills'] = pd.to_numeric(merged_left['% of Teams Kills'])\n",
    "merged_left['% of Teams Deaths'] = pd.to_numeric(merged_left['% of Teams Deaths'])"
   ],
   "metadata": {
    "collapsed": false,
    "ExecuteTime": {
     "end_time": "2024-02-03T06:24:49.269988Z",
     "start_time": "2024-02-03T06:24:49.262902Z"
    }
   },
   "id": "b83887a7bc227d12"
  },
  {
   "cell_type": "code",
   "execution_count": 66,
   "outputs": [
    {
     "data": {
      "text/plain": "25.000062500000002"
     },
     "execution_count": 66,
     "metadata": {},
     "output_type": "execute_result"
    }
   ],
   "source": [
    "average_team_kills = merged_left['% of Teams Kills'].mean()\n",
    "average_team_kills\n"
   ],
   "metadata": {
    "collapsed": false,
    "ExecuteTime": {
     "end_time": "2024-02-03T06:24:55.052634Z",
     "start_time": "2024-02-03T06:24:55.043540Z"
    }
   },
   "id": "49fd593581b86611"
  },
  {
   "cell_type": "code",
   "execution_count": 67,
   "outputs": [
    {
     "data": {
      "text/plain": "24.999874999999996"
     },
     "execution_count": 67,
     "metadata": {},
     "output_type": "execute_result"
    }
   ],
   "source": [
    "average_team_deaths = merged_left['% of Teams Deaths'].mean()\n",
    "average_team_deaths"
   ],
   "metadata": {
    "collapsed": false,
    "ExecuteTime": {
     "end_time": "2024-02-03T06:25:12.173753Z",
     "start_time": "2024-02-03T06:25:12.164358Z"
    }
   },
   "id": "364c6a9e6926b060"
  },
  {
   "cell_type": "code",
   "execution_count": 41,
   "outputs": [
    {
     "data": {
      "text/plain": "3"
     },
     "execution_count": 41,
     "metadata": {},
     "output_type": "execute_result"
    }
   ],
   "source": [
    "shotzzy_df[shotzzy_df['K/D']>= average_kd]['K/D'].count()"
   ],
   "metadata": {
    "collapsed": false,
    "ExecuteTime": {
     "end_time": "2024-02-02T21:23:48.627583Z",
     "start_time": "2024-02-02T21:23:48.624304Z"
    }
   },
   "id": "68d9d6d5b946cd51"
  },
  {
   "cell_type": "code",
   "execution_count": 42,
   "outputs": [
    {
     "data": {
      "text/plain": "9"
     },
     "execution_count": 42,
     "metadata": {},
     "output_type": "execute_result"
    }
   ],
   "source": [
    "shotzzy_df[shotzzy_df['K/D']< average_kd]['K/D'].count()"
   ],
   "metadata": {
    "collapsed": false,
    "ExecuteTime": {
     "end_time": "2024-02-02T21:23:48.899135Z",
     "start_time": "2024-02-02T21:23:48.895929Z"
    }
   },
   "id": "fdeff75ada4017fd"
  },
  {
   "cell_type": "markdown",
   "source": [
    "Based off of the average KD we calculated across the matches from Major 1, we can see that Shotzzy had an above average KD in 3/12 series. This of course, is not ideal, but lets dig a little deeper to see what games he had an above or below average KD, if the team won, who they played, etc."
   ],
   "metadata": {
    "collapsed": false
   },
   "id": "46a0d2e60c984a"
  },
  {
   "cell_type": "code",
   "execution_count": 45,
   "outputs": [
    {
     "data": {
      "text/plain": "      Player   Team    Opponent_x        Date_x  Stage_x  Series ID  Kills  \\\n110  Shotzzy  Optic      Heretics  Jan 25, 2024  Stage 1       46.0     59   \n326  Shotzzy  Optic  Royal Ravens  Dec 17, 2023  Stage 1       19.0     46   \n390  Shotzzy  Optic         Rokkr  Dec 10, 2023  Stage 1       11.0     82   \n454  Shotzzy  Optic     Subliners   Dec 8, 2023  Stage 1        3.0     86   \n18   Shotzzy  Optic         Rokkr  Jan 28, 2024  Stage 1       57.0     66   \n32   Shotzzy  Optic         Surge  Jan 27, 2024  Stage 1       55.0     68   \n206  Shotzzy  Optic      Heretics  Jan 19, 2024  Stage 1       34.0     41   \n254  Shotzzy  Optic        Legion  Jan 13, 2024  Stage 1       28.0     63   \n54   Shotzzy  Optic          Faze  Jan 27, 2024  Stage 1       53.0     76   \n366  Shotzzy  Optic         Surge  Dec 15, 2023  Stage 1       14.0     52   \n140  Shotzzy  Optic          Faze  Jan 21, 2024  Stage 1       42.0     42   \n2    Shotzzy  Optic          Faze  Jan 28, 2024  Stage 1       59.0     51   \n\n     Deaths   K/D % of Teams Kills % of Teams Deaths        Date_y  Stage_y  \\\n110      39  1.51           28.92%            23.49%  Jan 25, 2024  Stage 1   \n326      34  1.35           25.14%            28.33%  Dec 17, 2023  Stage 1   \n390      69  1.19           27.61%            27.49%  Dec 10, 2023  Stage 1   \n454      85  1.01           26.54%            26.81%   Dec 8, 2023  Stage 1   \n18       66  1.00           23.83%            26.83%  Jan 28, 2024  Stage 1   \n32       69  0.99           21.59%            26.95%  Jan 27, 2024  Stage 1   \n206      44  0.93           26.97%            25.14%  Jan 19, 2024  Stage 1   \n254      70  0.90           23.42%            26.52%  Jan 13, 2024  Stage 1   \n54       91  0.84           24.52%            27.08%  Jan 27, 2024  Stage 1   \n366      63  0.83            19.4%             25.3%  Dec 15, 2023  Stage 1   \n140      56  0.75           21.76%            24.89%  Jan 21, 2024  Stage 1   \n2        72  0.71           22.27%            26.47%  Jan 28, 2024  Stage 1   \n\n       Opponent_y  Maps Won  Maps Lost  Net Kills Win/Loss  \n110      Heretics         3          0         38      Win  \n326  Royal Ravens         3          0         63      Win  \n390         Rokkr         3          1         46      Win  \n454     Subliners         2          3          7     Loss  \n18          Rokkr         3          1         31      Win  \n32          Surge         3          1         59      Win  \n206      Heretics         0          3        -23     Loss  \n254        Legion         3          2          5      Win  \n54           Faze         2          3        -26     Loss  \n366         Surge         3          1         19      Win  \n140          Faze         0          3        -32     Loss  \n2            Faze         1          3        -43     Loss  ",
      "text/html": "<div>\n<style scoped>\n    .dataframe tbody tr th:only-of-type {\n        vertical-align: middle;\n    }\n\n    .dataframe tbody tr th {\n        vertical-align: top;\n    }\n\n    .dataframe thead th {\n        text-align: right;\n    }\n</style>\n<table border=\"1\" class=\"dataframe\">\n  <thead>\n    <tr style=\"text-align: right;\">\n      <th></th>\n      <th>Player</th>\n      <th>Team</th>\n      <th>Opponent_x</th>\n      <th>Date_x</th>\n      <th>Stage_x</th>\n      <th>Series ID</th>\n      <th>Kills</th>\n      <th>Deaths</th>\n      <th>K/D</th>\n      <th>% of Teams Kills</th>\n      <th>% of Teams Deaths</th>\n      <th>Date_y</th>\n      <th>Stage_y</th>\n      <th>Opponent_y</th>\n      <th>Maps Won</th>\n      <th>Maps Lost</th>\n      <th>Net Kills</th>\n      <th>Win/Loss</th>\n    </tr>\n  </thead>\n  <tbody>\n    <tr>\n      <th>110</th>\n      <td>Shotzzy</td>\n      <td>Optic</td>\n      <td>Heretics</td>\n      <td>Jan 25, 2024</td>\n      <td>Stage 1</td>\n      <td>46.0</td>\n      <td>59</td>\n      <td>39</td>\n      <td>1.51</td>\n      <td>28.92%</td>\n      <td>23.49%</td>\n      <td>Jan 25, 2024</td>\n      <td>Stage 1</td>\n      <td>Heretics</td>\n      <td>3</td>\n      <td>0</td>\n      <td>38</td>\n      <td>Win</td>\n    </tr>\n    <tr>\n      <th>326</th>\n      <td>Shotzzy</td>\n      <td>Optic</td>\n      <td>Royal Ravens</td>\n      <td>Dec 17, 2023</td>\n      <td>Stage 1</td>\n      <td>19.0</td>\n      <td>46</td>\n      <td>34</td>\n      <td>1.35</td>\n      <td>25.14%</td>\n      <td>28.33%</td>\n      <td>Dec 17, 2023</td>\n      <td>Stage 1</td>\n      <td>Royal Ravens</td>\n      <td>3</td>\n      <td>0</td>\n      <td>63</td>\n      <td>Win</td>\n    </tr>\n    <tr>\n      <th>390</th>\n      <td>Shotzzy</td>\n      <td>Optic</td>\n      <td>Rokkr</td>\n      <td>Dec 10, 2023</td>\n      <td>Stage 1</td>\n      <td>11.0</td>\n      <td>82</td>\n      <td>69</td>\n      <td>1.19</td>\n      <td>27.61%</td>\n      <td>27.49%</td>\n      <td>Dec 10, 2023</td>\n      <td>Stage 1</td>\n      <td>Rokkr</td>\n      <td>3</td>\n      <td>1</td>\n      <td>46</td>\n      <td>Win</td>\n    </tr>\n    <tr>\n      <th>454</th>\n      <td>Shotzzy</td>\n      <td>Optic</td>\n      <td>Subliners</td>\n      <td>Dec 8, 2023</td>\n      <td>Stage 1</td>\n      <td>3.0</td>\n      <td>86</td>\n      <td>85</td>\n      <td>1.01</td>\n      <td>26.54%</td>\n      <td>26.81%</td>\n      <td>Dec 8, 2023</td>\n      <td>Stage 1</td>\n      <td>Subliners</td>\n      <td>2</td>\n      <td>3</td>\n      <td>7</td>\n      <td>Loss</td>\n    </tr>\n    <tr>\n      <th>18</th>\n      <td>Shotzzy</td>\n      <td>Optic</td>\n      <td>Rokkr</td>\n      <td>Jan 28, 2024</td>\n      <td>Stage 1</td>\n      <td>57.0</td>\n      <td>66</td>\n      <td>66</td>\n      <td>1.00</td>\n      <td>23.83%</td>\n      <td>26.83%</td>\n      <td>Jan 28, 2024</td>\n      <td>Stage 1</td>\n      <td>Rokkr</td>\n      <td>3</td>\n      <td>1</td>\n      <td>31</td>\n      <td>Win</td>\n    </tr>\n    <tr>\n      <th>32</th>\n      <td>Shotzzy</td>\n      <td>Optic</td>\n      <td>Surge</td>\n      <td>Jan 27, 2024</td>\n      <td>Stage 1</td>\n      <td>55.0</td>\n      <td>68</td>\n      <td>69</td>\n      <td>0.99</td>\n      <td>21.59%</td>\n      <td>26.95%</td>\n      <td>Jan 27, 2024</td>\n      <td>Stage 1</td>\n      <td>Surge</td>\n      <td>3</td>\n      <td>1</td>\n      <td>59</td>\n      <td>Win</td>\n    </tr>\n    <tr>\n      <th>206</th>\n      <td>Shotzzy</td>\n      <td>Optic</td>\n      <td>Heretics</td>\n      <td>Jan 19, 2024</td>\n      <td>Stage 1</td>\n      <td>34.0</td>\n      <td>41</td>\n      <td>44</td>\n      <td>0.93</td>\n      <td>26.97%</td>\n      <td>25.14%</td>\n      <td>Jan 19, 2024</td>\n      <td>Stage 1</td>\n      <td>Heretics</td>\n      <td>0</td>\n      <td>3</td>\n      <td>-23</td>\n      <td>Loss</td>\n    </tr>\n    <tr>\n      <th>254</th>\n      <td>Shotzzy</td>\n      <td>Optic</td>\n      <td>Legion</td>\n      <td>Jan 13, 2024</td>\n      <td>Stage 1</td>\n      <td>28.0</td>\n      <td>63</td>\n      <td>70</td>\n      <td>0.90</td>\n      <td>23.42%</td>\n      <td>26.52%</td>\n      <td>Jan 13, 2024</td>\n      <td>Stage 1</td>\n      <td>Legion</td>\n      <td>3</td>\n      <td>2</td>\n      <td>5</td>\n      <td>Win</td>\n    </tr>\n    <tr>\n      <th>54</th>\n      <td>Shotzzy</td>\n      <td>Optic</td>\n      <td>Faze</td>\n      <td>Jan 27, 2024</td>\n      <td>Stage 1</td>\n      <td>53.0</td>\n      <td>76</td>\n      <td>91</td>\n      <td>0.84</td>\n      <td>24.52%</td>\n      <td>27.08%</td>\n      <td>Jan 27, 2024</td>\n      <td>Stage 1</td>\n      <td>Faze</td>\n      <td>2</td>\n      <td>3</td>\n      <td>-26</td>\n      <td>Loss</td>\n    </tr>\n    <tr>\n      <th>366</th>\n      <td>Shotzzy</td>\n      <td>Optic</td>\n      <td>Surge</td>\n      <td>Dec 15, 2023</td>\n      <td>Stage 1</td>\n      <td>14.0</td>\n      <td>52</td>\n      <td>63</td>\n      <td>0.83</td>\n      <td>19.4%</td>\n      <td>25.3%</td>\n      <td>Dec 15, 2023</td>\n      <td>Stage 1</td>\n      <td>Surge</td>\n      <td>3</td>\n      <td>1</td>\n      <td>19</td>\n      <td>Win</td>\n    </tr>\n    <tr>\n      <th>140</th>\n      <td>Shotzzy</td>\n      <td>Optic</td>\n      <td>Faze</td>\n      <td>Jan 21, 2024</td>\n      <td>Stage 1</td>\n      <td>42.0</td>\n      <td>42</td>\n      <td>56</td>\n      <td>0.75</td>\n      <td>21.76%</td>\n      <td>24.89%</td>\n      <td>Jan 21, 2024</td>\n      <td>Stage 1</td>\n      <td>Faze</td>\n      <td>0</td>\n      <td>3</td>\n      <td>-32</td>\n      <td>Loss</td>\n    </tr>\n    <tr>\n      <th>2</th>\n      <td>Shotzzy</td>\n      <td>Optic</td>\n      <td>Faze</td>\n      <td>Jan 28, 2024</td>\n      <td>Stage 1</td>\n      <td>59.0</td>\n      <td>51</td>\n      <td>72</td>\n      <td>0.71</td>\n      <td>22.27%</td>\n      <td>26.47%</td>\n      <td>Jan 28, 2024</td>\n      <td>Stage 1</td>\n      <td>Faze</td>\n      <td>1</td>\n      <td>3</td>\n      <td>-43</td>\n      <td>Loss</td>\n    </tr>\n  </tbody>\n</table>\n</div>"
     },
     "execution_count": 45,
     "metadata": {},
     "output_type": "execute_result"
    }
   ],
   "source": [
    "shotzzy_df.sort_values('K/D', ascending=False)"
   ],
   "metadata": {
    "collapsed": false,
    "ExecuteTime": {
     "end_time": "2024-02-02T21:28:16.624826Z",
     "start_time": "2024-02-02T21:28:16.622781Z"
    }
   },
   "id": "64bf1b9580d3416"
  },
  {
   "cell_type": "code",
   "execution_count": 48,
   "outputs": [
    {
     "data": {
      "text/plain": "7"
     },
     "execution_count": 48,
     "metadata": {},
     "output_type": "execute_result"
    }
   ],
   "source": [
    "shotzzy_df[shotzzy_df['Win/Loss']=='Win']['Win/Loss'].count()"
   ],
   "metadata": {
    "collapsed": false,
    "ExecuteTime": {
     "end_time": "2024-02-02T21:39:03.711328Z",
     "start_time": "2024-02-02T21:39:03.707570Z"
    }
   },
   "id": "7c9f7ddb77e53790"
  },
  {
   "cell_type": "markdown",
   "source": [
    "After sorting the table my Shotzzys KD and getting the count of Wins that Optic had across Major 1 we can see some interesting things. \n",
    "\n",
    "1) The first finding is that every series Shotzzy went over the average KD, the team won. And not just any win but two 3-0 wins and a 3-1 win. In addition, Optic is 4-1 and when he has at least a 1 KD. And only 2-4 when he goes below a 1 KD. It is safe to say when Shotzzy is playing well the team is winning.\n",
    "2) His kryptonite, as of Major 1, is Faze. Three of his 4 worst series come against Faze. All of which include losses.\n",
    "3)  Final point is just the difference on LAN an Online. Jan 25-28th was on LAN. Dec 8-Jan 21st was Online. There is not any real noticeable difference in his play from online to LAN."
   ],
   "metadata": {
    "collapsed": false
   },
   "id": "490d871a3fb844f"
  },
  {
   "cell_type": "markdown",
   "source": [
    "Next lets take a look at the other returning Optic player from last season, Dashy"
   ],
   "metadata": {
    "collapsed": false
   },
   "id": "384ef9d5cd267439"
  },
  {
   "cell_type": "code",
   "execution_count": 69,
   "outputs": [
    {
     "data": {
      "text/plain": "    Player   Team    Opponent_x        Date_x  Stage_x  Series ID  Kills  \\\n1    Dashy  Optic          Faze  Jan 28, 2024  Stage 1       59.0     54   \n17   Dashy  Optic         Rokkr  Jan 28, 2024  Stage 1       57.0     64   \n35   Dashy  Optic         Surge  Jan 27, 2024  Stage 1       55.0     75   \n55   Dashy  Optic          Faze  Jan 27, 2024  Stage 1       53.0     58   \n108  Dashy  Optic      Heretics  Jan 25, 2024  Stage 1       46.0     41   \n139  Dashy  Optic          Faze  Jan 21, 2024  Stage 1       42.0     47   \n205  Dashy  Optic      Heretics  Jan 19, 2024  Stage 1       34.0     42   \n252  Dashy  Optic        Legion  Jan 13, 2024  Stage 1       28.0     60   \n324  Dashy  Optic  Royal Ravens  Dec 17, 2023  Stage 1       19.0     46   \n364  Dashy  Optic         Surge  Dec 15, 2023  Stage 1       14.0     64   \n388  Dashy  Optic         Rokkr  Dec 10, 2023  Stage 1       11.0     72   \n452  Dashy  Optic     Subliners   Dec 8, 2023  Stage 1        3.0     65   \n\n     Deaths   K/D  % of Teams Kills  % of Teams Deaths        Date_y  Stage_y  \\\n1        61  0.89             23.58              22.43  Jan 28, 2024  Stage 1   \n17       56  1.14             23.10              22.76  Jan 28, 2024  Stage 1   \n35       55  1.36             23.81              21.48  Jan 27, 2024  Stage 1   \n55       81  0.72             18.71              24.11  Jan 27, 2024  Stage 1   \n108      31  1.32             20.10              18.67  Jan 25, 2024  Stage 1   \n139      55  0.85             24.35              24.44  Jan 21, 2024  Stage 1   \n205      47  0.89             27.63              26.86  Jan 19, 2024  Stage 1   \n252      62  0.97             22.30              23.48  Jan 13, 2024  Stage 1   \n324      25  1.84             25.14              20.83  Dec 17, 2023  Stage 1   \n364      50  1.28             23.88              20.08  Dec 15, 2023  Stage 1   \n388      57  1.26             24.24              22.71  Dec 10, 2023  Stage 1   \n452      74  0.88             20.06              23.34   Dec 8, 2023  Stage 1   \n\n       Opponent_y  Maps Won  Maps Lost  Net Kills Win/Loss  \n1            Faze         1          3        -43     Loss  \n17          Rokkr         3          1         31      Win  \n35          Surge         3          1         59      Win  \n55           Faze         2          3        -26     Loss  \n108      Heretics         3          0         38      Win  \n139          Faze         0          3        -32     Loss  \n205      Heretics         0          3        -23     Loss  \n252        Legion         3          2          5      Win  \n324  Royal Ravens         3          0         63      Win  \n364         Surge         3          1         19      Win  \n388         Rokkr         3          1         46      Win  \n452     Subliners         2          3          7     Loss  ",
      "text/html": "<div>\n<style scoped>\n    .dataframe tbody tr th:only-of-type {\n        vertical-align: middle;\n    }\n\n    .dataframe tbody tr th {\n        vertical-align: top;\n    }\n\n    .dataframe thead th {\n        text-align: right;\n    }\n</style>\n<table border=\"1\" class=\"dataframe\">\n  <thead>\n    <tr style=\"text-align: right;\">\n      <th></th>\n      <th>Player</th>\n      <th>Team</th>\n      <th>Opponent_x</th>\n      <th>Date_x</th>\n      <th>Stage_x</th>\n      <th>Series ID</th>\n      <th>Kills</th>\n      <th>Deaths</th>\n      <th>K/D</th>\n      <th>% of Teams Kills</th>\n      <th>% of Teams Deaths</th>\n      <th>Date_y</th>\n      <th>Stage_y</th>\n      <th>Opponent_y</th>\n      <th>Maps Won</th>\n      <th>Maps Lost</th>\n      <th>Net Kills</th>\n      <th>Win/Loss</th>\n    </tr>\n  </thead>\n  <tbody>\n    <tr>\n      <th>1</th>\n      <td>Dashy</td>\n      <td>Optic</td>\n      <td>Faze</td>\n      <td>Jan 28, 2024</td>\n      <td>Stage 1</td>\n      <td>59.0</td>\n      <td>54</td>\n      <td>61</td>\n      <td>0.89</td>\n      <td>23.58</td>\n      <td>22.43</td>\n      <td>Jan 28, 2024</td>\n      <td>Stage 1</td>\n      <td>Faze</td>\n      <td>1</td>\n      <td>3</td>\n      <td>-43</td>\n      <td>Loss</td>\n    </tr>\n    <tr>\n      <th>17</th>\n      <td>Dashy</td>\n      <td>Optic</td>\n      <td>Rokkr</td>\n      <td>Jan 28, 2024</td>\n      <td>Stage 1</td>\n      <td>57.0</td>\n      <td>64</td>\n      <td>56</td>\n      <td>1.14</td>\n      <td>23.10</td>\n      <td>22.76</td>\n      <td>Jan 28, 2024</td>\n      <td>Stage 1</td>\n      <td>Rokkr</td>\n      <td>3</td>\n      <td>1</td>\n      <td>31</td>\n      <td>Win</td>\n    </tr>\n    <tr>\n      <th>35</th>\n      <td>Dashy</td>\n      <td>Optic</td>\n      <td>Surge</td>\n      <td>Jan 27, 2024</td>\n      <td>Stage 1</td>\n      <td>55.0</td>\n      <td>75</td>\n      <td>55</td>\n      <td>1.36</td>\n      <td>23.81</td>\n      <td>21.48</td>\n      <td>Jan 27, 2024</td>\n      <td>Stage 1</td>\n      <td>Surge</td>\n      <td>3</td>\n      <td>1</td>\n      <td>59</td>\n      <td>Win</td>\n    </tr>\n    <tr>\n      <th>55</th>\n      <td>Dashy</td>\n      <td>Optic</td>\n      <td>Faze</td>\n      <td>Jan 27, 2024</td>\n      <td>Stage 1</td>\n      <td>53.0</td>\n      <td>58</td>\n      <td>81</td>\n      <td>0.72</td>\n      <td>18.71</td>\n      <td>24.11</td>\n      <td>Jan 27, 2024</td>\n      <td>Stage 1</td>\n      <td>Faze</td>\n      <td>2</td>\n      <td>3</td>\n      <td>-26</td>\n      <td>Loss</td>\n    </tr>\n    <tr>\n      <th>108</th>\n      <td>Dashy</td>\n      <td>Optic</td>\n      <td>Heretics</td>\n      <td>Jan 25, 2024</td>\n      <td>Stage 1</td>\n      <td>46.0</td>\n      <td>41</td>\n      <td>31</td>\n      <td>1.32</td>\n      <td>20.10</td>\n      <td>18.67</td>\n      <td>Jan 25, 2024</td>\n      <td>Stage 1</td>\n      <td>Heretics</td>\n      <td>3</td>\n      <td>0</td>\n      <td>38</td>\n      <td>Win</td>\n    </tr>\n    <tr>\n      <th>139</th>\n      <td>Dashy</td>\n      <td>Optic</td>\n      <td>Faze</td>\n      <td>Jan 21, 2024</td>\n      <td>Stage 1</td>\n      <td>42.0</td>\n      <td>47</td>\n      <td>55</td>\n      <td>0.85</td>\n      <td>24.35</td>\n      <td>24.44</td>\n      <td>Jan 21, 2024</td>\n      <td>Stage 1</td>\n      <td>Faze</td>\n      <td>0</td>\n      <td>3</td>\n      <td>-32</td>\n      <td>Loss</td>\n    </tr>\n    <tr>\n      <th>205</th>\n      <td>Dashy</td>\n      <td>Optic</td>\n      <td>Heretics</td>\n      <td>Jan 19, 2024</td>\n      <td>Stage 1</td>\n      <td>34.0</td>\n      <td>42</td>\n      <td>47</td>\n      <td>0.89</td>\n      <td>27.63</td>\n      <td>26.86</td>\n      <td>Jan 19, 2024</td>\n      <td>Stage 1</td>\n      <td>Heretics</td>\n      <td>0</td>\n      <td>3</td>\n      <td>-23</td>\n      <td>Loss</td>\n    </tr>\n    <tr>\n      <th>252</th>\n      <td>Dashy</td>\n      <td>Optic</td>\n      <td>Legion</td>\n      <td>Jan 13, 2024</td>\n      <td>Stage 1</td>\n      <td>28.0</td>\n      <td>60</td>\n      <td>62</td>\n      <td>0.97</td>\n      <td>22.30</td>\n      <td>23.48</td>\n      <td>Jan 13, 2024</td>\n      <td>Stage 1</td>\n      <td>Legion</td>\n      <td>3</td>\n      <td>2</td>\n      <td>5</td>\n      <td>Win</td>\n    </tr>\n    <tr>\n      <th>324</th>\n      <td>Dashy</td>\n      <td>Optic</td>\n      <td>Royal Ravens</td>\n      <td>Dec 17, 2023</td>\n      <td>Stage 1</td>\n      <td>19.0</td>\n      <td>46</td>\n      <td>25</td>\n      <td>1.84</td>\n      <td>25.14</td>\n      <td>20.83</td>\n      <td>Dec 17, 2023</td>\n      <td>Stage 1</td>\n      <td>Royal Ravens</td>\n      <td>3</td>\n      <td>0</td>\n      <td>63</td>\n      <td>Win</td>\n    </tr>\n    <tr>\n      <th>364</th>\n      <td>Dashy</td>\n      <td>Optic</td>\n      <td>Surge</td>\n      <td>Dec 15, 2023</td>\n      <td>Stage 1</td>\n      <td>14.0</td>\n      <td>64</td>\n      <td>50</td>\n      <td>1.28</td>\n      <td>23.88</td>\n      <td>20.08</td>\n      <td>Dec 15, 2023</td>\n      <td>Stage 1</td>\n      <td>Surge</td>\n      <td>3</td>\n      <td>1</td>\n      <td>19</td>\n      <td>Win</td>\n    </tr>\n    <tr>\n      <th>388</th>\n      <td>Dashy</td>\n      <td>Optic</td>\n      <td>Rokkr</td>\n      <td>Dec 10, 2023</td>\n      <td>Stage 1</td>\n      <td>11.0</td>\n      <td>72</td>\n      <td>57</td>\n      <td>1.26</td>\n      <td>24.24</td>\n      <td>22.71</td>\n      <td>Dec 10, 2023</td>\n      <td>Stage 1</td>\n      <td>Rokkr</td>\n      <td>3</td>\n      <td>1</td>\n      <td>46</td>\n      <td>Win</td>\n    </tr>\n    <tr>\n      <th>452</th>\n      <td>Dashy</td>\n      <td>Optic</td>\n      <td>Subliners</td>\n      <td>Dec 8, 2023</td>\n      <td>Stage 1</td>\n      <td>3.0</td>\n      <td>65</td>\n      <td>74</td>\n      <td>0.88</td>\n      <td>20.06</td>\n      <td>23.34</td>\n      <td>Dec 8, 2023</td>\n      <td>Stage 1</td>\n      <td>Subliners</td>\n      <td>2</td>\n      <td>3</td>\n      <td>7</td>\n      <td>Loss</td>\n    </tr>\n  </tbody>\n</table>\n</div>"
     },
     "execution_count": 69,
     "metadata": {},
     "output_type": "execute_result"
    }
   ],
   "source": [
    "dashy_df = merged_left[merged_left['Player']=='Dashy']\n",
    "dashy_df"
   ],
   "metadata": {
    "collapsed": false,
    "ExecuteTime": {
     "end_time": "2024-02-03T06:28:26.461845Z",
     "start_time": "2024-02-03T06:28:26.458074Z"
    }
   },
   "id": "2dc63bd66e206d6"
  },
  {
   "cell_type": "code",
   "execution_count": 70,
   "outputs": [
    {
     "data": {
      "text/plain": "6"
     },
     "execution_count": 70,
     "metadata": {},
     "output_type": "execute_result"
    }
   ],
   "source": [
    "dashy_df[dashy_df['K/D']>=average_kd]['K/D'].count()"
   ],
   "metadata": {
    "collapsed": false,
    "ExecuteTime": {
     "end_time": "2024-02-03T06:29:58.829131Z",
     "start_time": "2024-02-03T06:29:58.809356Z"
    }
   },
   "id": "5f38ddfe088fde2a"
  },
  {
   "cell_type": "code",
   "execution_count": 71,
   "outputs": [
    {
     "data": {
      "text/plain": "6"
     },
     "execution_count": 71,
     "metadata": {},
     "output_type": "execute_result"
    }
   ],
   "source": [
    "dashy_df[dashy_df['K/D']<average_kd]['K/D'].count()"
   ],
   "metadata": {
    "collapsed": false,
    "ExecuteTime": {
     "end_time": "2024-02-03T06:30:13.833858Z",
     "start_time": "2024-02-03T06:30:13.816271Z"
    }
   },
   "id": "63ac09aec43ae9a6"
  },
  {
   "cell_type": "markdown",
   "source": [
    "Dashy had an above average KD in 6/12 matches throughout Major 1. With 2 of his top 3 performances coming on LAN."
   ],
   "metadata": {
    "collapsed": false
   },
   "id": "b1cbff1da5d3074"
  },
  {
   "cell_type": "code",
   "execution_count": 72,
   "outputs": [
    {
     "data": {
      "text/plain": "6"
     },
     "execution_count": 72,
     "metadata": {},
     "output_type": "execute_result"
    }
   ],
   "source": [
    "dashy_df[(dashy_df['K/D']>=average_kd) & (dashy_df['Win/Loss']=='Win')]['Win/Loss'].count()"
   ],
   "metadata": {
    "collapsed": false,
    "ExecuteTime": {
     "end_time": "2024-02-03T06:36:11.272219Z",
     "start_time": "2024-02-03T06:36:11.254767Z"
    }
   },
   "id": "3e40e8616323a8a3"
  },
  {
   "cell_type": "code",
   "execution_count": 73,
   "outputs": [
    {
     "data": {
      "text/plain": "    Player   Team    Opponent_x        Date_x  Stage_x  Series ID  Kills  \\\n324  Dashy  Optic  Royal Ravens  Dec 17, 2023  Stage 1       19.0     46   \n35   Dashy  Optic         Surge  Jan 27, 2024  Stage 1       55.0     75   \n108  Dashy  Optic      Heretics  Jan 25, 2024  Stage 1       46.0     41   \n364  Dashy  Optic         Surge  Dec 15, 2023  Stage 1       14.0     64   \n388  Dashy  Optic         Rokkr  Dec 10, 2023  Stage 1       11.0     72   \n17   Dashy  Optic         Rokkr  Jan 28, 2024  Stage 1       57.0     64   \n252  Dashy  Optic        Legion  Jan 13, 2024  Stage 1       28.0     60   \n1    Dashy  Optic          Faze  Jan 28, 2024  Stage 1       59.0     54   \n205  Dashy  Optic      Heretics  Jan 19, 2024  Stage 1       34.0     42   \n452  Dashy  Optic     Subliners   Dec 8, 2023  Stage 1        3.0     65   \n139  Dashy  Optic          Faze  Jan 21, 2024  Stage 1       42.0     47   \n55   Dashy  Optic          Faze  Jan 27, 2024  Stage 1       53.0     58   \n\n     Deaths   K/D  % of Teams Kills  % of Teams Deaths        Date_y  Stage_y  \\\n324      25  1.84             25.14              20.83  Dec 17, 2023  Stage 1   \n35       55  1.36             23.81              21.48  Jan 27, 2024  Stage 1   \n108      31  1.32             20.10              18.67  Jan 25, 2024  Stage 1   \n364      50  1.28             23.88              20.08  Dec 15, 2023  Stage 1   \n388      57  1.26             24.24              22.71  Dec 10, 2023  Stage 1   \n17       56  1.14             23.10              22.76  Jan 28, 2024  Stage 1   \n252      62  0.97             22.30              23.48  Jan 13, 2024  Stage 1   \n1        61  0.89             23.58              22.43  Jan 28, 2024  Stage 1   \n205      47  0.89             27.63              26.86  Jan 19, 2024  Stage 1   \n452      74  0.88             20.06              23.34   Dec 8, 2023  Stage 1   \n139      55  0.85             24.35              24.44  Jan 21, 2024  Stage 1   \n55       81  0.72             18.71              24.11  Jan 27, 2024  Stage 1   \n\n       Opponent_y  Maps Won  Maps Lost  Net Kills Win/Loss  \n324  Royal Ravens         3          0         63      Win  \n35          Surge         3          1         59      Win  \n108      Heretics         3          0         38      Win  \n364         Surge         3          1         19      Win  \n388         Rokkr         3          1         46      Win  \n17          Rokkr         3          1         31      Win  \n252        Legion         3          2          5      Win  \n1            Faze         1          3        -43     Loss  \n205      Heretics         0          3        -23     Loss  \n452     Subliners         2          3          7     Loss  \n139          Faze         0          3        -32     Loss  \n55           Faze         2          3        -26     Loss  ",
      "text/html": "<div>\n<style scoped>\n    .dataframe tbody tr th:only-of-type {\n        vertical-align: middle;\n    }\n\n    .dataframe tbody tr th {\n        vertical-align: top;\n    }\n\n    .dataframe thead th {\n        text-align: right;\n    }\n</style>\n<table border=\"1\" class=\"dataframe\">\n  <thead>\n    <tr style=\"text-align: right;\">\n      <th></th>\n      <th>Player</th>\n      <th>Team</th>\n      <th>Opponent_x</th>\n      <th>Date_x</th>\n      <th>Stage_x</th>\n      <th>Series ID</th>\n      <th>Kills</th>\n      <th>Deaths</th>\n      <th>K/D</th>\n      <th>% of Teams Kills</th>\n      <th>% of Teams Deaths</th>\n      <th>Date_y</th>\n      <th>Stage_y</th>\n      <th>Opponent_y</th>\n      <th>Maps Won</th>\n      <th>Maps Lost</th>\n      <th>Net Kills</th>\n      <th>Win/Loss</th>\n    </tr>\n  </thead>\n  <tbody>\n    <tr>\n      <th>324</th>\n      <td>Dashy</td>\n      <td>Optic</td>\n      <td>Royal Ravens</td>\n      <td>Dec 17, 2023</td>\n      <td>Stage 1</td>\n      <td>19.0</td>\n      <td>46</td>\n      <td>25</td>\n      <td>1.84</td>\n      <td>25.14</td>\n      <td>20.83</td>\n      <td>Dec 17, 2023</td>\n      <td>Stage 1</td>\n      <td>Royal Ravens</td>\n      <td>3</td>\n      <td>0</td>\n      <td>63</td>\n      <td>Win</td>\n    </tr>\n    <tr>\n      <th>35</th>\n      <td>Dashy</td>\n      <td>Optic</td>\n      <td>Surge</td>\n      <td>Jan 27, 2024</td>\n      <td>Stage 1</td>\n      <td>55.0</td>\n      <td>75</td>\n      <td>55</td>\n      <td>1.36</td>\n      <td>23.81</td>\n      <td>21.48</td>\n      <td>Jan 27, 2024</td>\n      <td>Stage 1</td>\n      <td>Surge</td>\n      <td>3</td>\n      <td>1</td>\n      <td>59</td>\n      <td>Win</td>\n    </tr>\n    <tr>\n      <th>108</th>\n      <td>Dashy</td>\n      <td>Optic</td>\n      <td>Heretics</td>\n      <td>Jan 25, 2024</td>\n      <td>Stage 1</td>\n      <td>46.0</td>\n      <td>41</td>\n      <td>31</td>\n      <td>1.32</td>\n      <td>20.10</td>\n      <td>18.67</td>\n      <td>Jan 25, 2024</td>\n      <td>Stage 1</td>\n      <td>Heretics</td>\n      <td>3</td>\n      <td>0</td>\n      <td>38</td>\n      <td>Win</td>\n    </tr>\n    <tr>\n      <th>364</th>\n      <td>Dashy</td>\n      <td>Optic</td>\n      <td>Surge</td>\n      <td>Dec 15, 2023</td>\n      <td>Stage 1</td>\n      <td>14.0</td>\n      <td>64</td>\n      <td>50</td>\n      <td>1.28</td>\n      <td>23.88</td>\n      <td>20.08</td>\n      <td>Dec 15, 2023</td>\n      <td>Stage 1</td>\n      <td>Surge</td>\n      <td>3</td>\n      <td>1</td>\n      <td>19</td>\n      <td>Win</td>\n    </tr>\n    <tr>\n      <th>388</th>\n      <td>Dashy</td>\n      <td>Optic</td>\n      <td>Rokkr</td>\n      <td>Dec 10, 2023</td>\n      <td>Stage 1</td>\n      <td>11.0</td>\n      <td>72</td>\n      <td>57</td>\n      <td>1.26</td>\n      <td>24.24</td>\n      <td>22.71</td>\n      <td>Dec 10, 2023</td>\n      <td>Stage 1</td>\n      <td>Rokkr</td>\n      <td>3</td>\n      <td>1</td>\n      <td>46</td>\n      <td>Win</td>\n    </tr>\n    <tr>\n      <th>17</th>\n      <td>Dashy</td>\n      <td>Optic</td>\n      <td>Rokkr</td>\n      <td>Jan 28, 2024</td>\n      <td>Stage 1</td>\n      <td>57.0</td>\n      <td>64</td>\n      <td>56</td>\n      <td>1.14</td>\n      <td>23.10</td>\n      <td>22.76</td>\n      <td>Jan 28, 2024</td>\n      <td>Stage 1</td>\n      <td>Rokkr</td>\n      <td>3</td>\n      <td>1</td>\n      <td>31</td>\n      <td>Win</td>\n    </tr>\n    <tr>\n      <th>252</th>\n      <td>Dashy</td>\n      <td>Optic</td>\n      <td>Legion</td>\n      <td>Jan 13, 2024</td>\n      <td>Stage 1</td>\n      <td>28.0</td>\n      <td>60</td>\n      <td>62</td>\n      <td>0.97</td>\n      <td>22.30</td>\n      <td>23.48</td>\n      <td>Jan 13, 2024</td>\n      <td>Stage 1</td>\n      <td>Legion</td>\n      <td>3</td>\n      <td>2</td>\n      <td>5</td>\n      <td>Win</td>\n    </tr>\n    <tr>\n      <th>1</th>\n      <td>Dashy</td>\n      <td>Optic</td>\n      <td>Faze</td>\n      <td>Jan 28, 2024</td>\n      <td>Stage 1</td>\n      <td>59.0</td>\n      <td>54</td>\n      <td>61</td>\n      <td>0.89</td>\n      <td>23.58</td>\n      <td>22.43</td>\n      <td>Jan 28, 2024</td>\n      <td>Stage 1</td>\n      <td>Faze</td>\n      <td>1</td>\n      <td>3</td>\n      <td>-43</td>\n      <td>Loss</td>\n    </tr>\n    <tr>\n      <th>205</th>\n      <td>Dashy</td>\n      <td>Optic</td>\n      <td>Heretics</td>\n      <td>Jan 19, 2024</td>\n      <td>Stage 1</td>\n      <td>34.0</td>\n      <td>42</td>\n      <td>47</td>\n      <td>0.89</td>\n      <td>27.63</td>\n      <td>26.86</td>\n      <td>Jan 19, 2024</td>\n      <td>Stage 1</td>\n      <td>Heretics</td>\n      <td>0</td>\n      <td>3</td>\n      <td>-23</td>\n      <td>Loss</td>\n    </tr>\n    <tr>\n      <th>452</th>\n      <td>Dashy</td>\n      <td>Optic</td>\n      <td>Subliners</td>\n      <td>Dec 8, 2023</td>\n      <td>Stage 1</td>\n      <td>3.0</td>\n      <td>65</td>\n      <td>74</td>\n      <td>0.88</td>\n      <td>20.06</td>\n      <td>23.34</td>\n      <td>Dec 8, 2023</td>\n      <td>Stage 1</td>\n      <td>Subliners</td>\n      <td>2</td>\n      <td>3</td>\n      <td>7</td>\n      <td>Loss</td>\n    </tr>\n    <tr>\n      <th>139</th>\n      <td>Dashy</td>\n      <td>Optic</td>\n      <td>Faze</td>\n      <td>Jan 21, 2024</td>\n      <td>Stage 1</td>\n      <td>42.0</td>\n      <td>47</td>\n      <td>55</td>\n      <td>0.85</td>\n      <td>24.35</td>\n      <td>24.44</td>\n      <td>Jan 21, 2024</td>\n      <td>Stage 1</td>\n      <td>Faze</td>\n      <td>0</td>\n      <td>3</td>\n      <td>-32</td>\n      <td>Loss</td>\n    </tr>\n    <tr>\n      <th>55</th>\n      <td>Dashy</td>\n      <td>Optic</td>\n      <td>Faze</td>\n      <td>Jan 27, 2024</td>\n      <td>Stage 1</td>\n      <td>53.0</td>\n      <td>58</td>\n      <td>81</td>\n      <td>0.72</td>\n      <td>18.71</td>\n      <td>24.11</td>\n      <td>Jan 27, 2024</td>\n      <td>Stage 1</td>\n      <td>Faze</td>\n      <td>2</td>\n      <td>3</td>\n      <td>-26</td>\n      <td>Loss</td>\n    </tr>\n  </tbody>\n</table>\n</div>"
     },
     "execution_count": 73,
     "metadata": {},
     "output_type": "execute_result"
    }
   ],
   "source": [
    "dashy_df.sort_values('K/D', ascending=False)"
   ],
   "metadata": {
    "collapsed": false,
    "ExecuteTime": {
     "end_time": "2024-02-03T06:36:31.377671Z",
     "start_time": "2024-02-03T06:36:31.362598Z"
    }
   },
   "id": "431ad6de0e2161a"
  },
  {
   "cell_type": "markdown",
   "source": [
    "My takeaways for Dashy from the data after analyzing is as follows:\n",
    "1) Dashy is a MAJOR factor on if Optic wins matches or not. Optic is 6-0 when Dashy has an above average KD. With their closest series being a 3-1. When Dashy is performing below league average they are 1-5, with their only win in a game 5 victory against Vegas Legion.\n",
    "2) Something we will more than likely see for all Optic players is their poor performance vs Faze in all three matchups so far this year. Like Shotzzy, Dashy's worst two series this year are vs Faze\n",
    "3) With 3 out of his top 6 performances being on LAN and the other 3 online, I would conclude that he is pretty consistent across both. Do note that 3 of his 4 worst performances did come online, so when he is playing at his worst it is usually online."
   ],
   "metadata": {
    "collapsed": false
   },
   "id": "bdce7676f1bc8ce2"
  },
  {
   "cell_type": "markdown",
   "source": [
    "Now lets check out Optic's biggest off-season pick up, Pred"
   ],
   "metadata": {
    "collapsed": false
   },
   "id": "2224fc1ae504432f"
  },
  {
   "cell_type": "code",
   "execution_count": 75,
   "outputs": [
    {
     "data": {
      "text/plain": "    Player   Team    Opponent_x        Date_x  Stage_x  Series ID  Kills  \\\n0     Pred  Optic          Faze  Jan 28, 2024  Stage 1       59.0     73   \n22    Pred  Optic         Rokkr  Jan 28, 2024  Stage 1       57.0     81   \n33    Pred  Optic         Surge  Jan 27, 2024  Stage 1       55.0     88   \n52    Pred  Optic          Faze  Jan 27, 2024  Stage 1       53.0     92   \n105   Pred  Optic      Heretics  Jan 25, 2024  Stage 1       46.0     51   \n143   Pred  Optic          Faze  Jan 21, 2024  Stage 1       42.0     56   \n200   Pred  Optic      Heretics  Jan 19, 2024  Stage 1       34.0     34   \n253   Pred  Optic        Legion  Jan 13, 2024  Stage 1       28.0     68   \n325   Pred  Optic  Royal Ravens  Dec 17, 2023  Stage 1       19.0     46   \n365   Pred  Optic         Surge  Dec 15, 2023  Stage 1       14.0     83   \n389   Pred  Optic         Rokkr  Dec 10, 2023  Stage 1       11.0     81   \n453   Pred  Optic     Subliners   Dec 8, 2023  Stage 1        3.0     74   \n\n     Deaths   K/D  % of Teams Kills  % of Teams Deaths        Date_y  Stage_y  \\\n0        66  1.11             31.88              24.26  Jan 28, 2024  Stage 1   \n22       59  1.37             29.24              23.98  Jan 28, 2024  Stage 1   \n33       67  1.31             27.94              26.17  Jan 27, 2024  Stage 1   \n52       78  1.18             29.68              23.21  Jan 27, 2024  Stage 1   \n105      44  1.16             25.00              26.51  Jan 25, 2024  Stage 1   \n143      54  1.04             29.02              24.00  Jan 21, 2024  Stage 1   \n200      44  0.77             22.37              25.14  Jan 19, 2024  Stage 1   \n253      65  1.05             25.28              24.62  Jan 13, 2024  Stage 1   \n325      32  1.44             25.14              26.67  Dec 17, 2023  Stage 1   \n365      63  1.32             30.97              25.30  Dec 15, 2023  Stage 1   \n389      60  1.35             27.27              23.90  Dec 10, 2023  Stage 1   \n453      75  0.99             22.84              23.66   Dec 8, 2023  Stage 1   \n\n       Opponent_y  Maps Won  Maps Lost  Net Kills Win/Loss  \n0            Faze         1          3        -43     Loss  \n22          Rokkr         3          1         31      Win  \n33          Surge         3          1         59      Win  \n52           Faze         2          3        -26     Loss  \n105      Heretics         3          0         38      Win  \n143          Faze         0          3        -32     Loss  \n200      Heretics         0          3        -23     Loss  \n253        Legion         3          2          5      Win  \n325  Royal Ravens         3          0         63      Win  \n365         Surge         3          1         19      Win  \n389         Rokkr         3          1         46      Win  \n453     Subliners         2          3          7     Loss  ",
      "text/html": "<div>\n<style scoped>\n    .dataframe tbody tr th:only-of-type {\n        vertical-align: middle;\n    }\n\n    .dataframe tbody tr th {\n        vertical-align: top;\n    }\n\n    .dataframe thead th {\n        text-align: right;\n    }\n</style>\n<table border=\"1\" class=\"dataframe\">\n  <thead>\n    <tr style=\"text-align: right;\">\n      <th></th>\n      <th>Player</th>\n      <th>Team</th>\n      <th>Opponent_x</th>\n      <th>Date_x</th>\n      <th>Stage_x</th>\n      <th>Series ID</th>\n      <th>Kills</th>\n      <th>Deaths</th>\n      <th>K/D</th>\n      <th>% of Teams Kills</th>\n      <th>% of Teams Deaths</th>\n      <th>Date_y</th>\n      <th>Stage_y</th>\n      <th>Opponent_y</th>\n      <th>Maps Won</th>\n      <th>Maps Lost</th>\n      <th>Net Kills</th>\n      <th>Win/Loss</th>\n    </tr>\n  </thead>\n  <tbody>\n    <tr>\n      <th>0</th>\n      <td>Pred</td>\n      <td>Optic</td>\n      <td>Faze</td>\n      <td>Jan 28, 2024</td>\n      <td>Stage 1</td>\n      <td>59.0</td>\n      <td>73</td>\n      <td>66</td>\n      <td>1.11</td>\n      <td>31.88</td>\n      <td>24.26</td>\n      <td>Jan 28, 2024</td>\n      <td>Stage 1</td>\n      <td>Faze</td>\n      <td>1</td>\n      <td>3</td>\n      <td>-43</td>\n      <td>Loss</td>\n    </tr>\n    <tr>\n      <th>22</th>\n      <td>Pred</td>\n      <td>Optic</td>\n      <td>Rokkr</td>\n      <td>Jan 28, 2024</td>\n      <td>Stage 1</td>\n      <td>57.0</td>\n      <td>81</td>\n      <td>59</td>\n      <td>1.37</td>\n      <td>29.24</td>\n      <td>23.98</td>\n      <td>Jan 28, 2024</td>\n      <td>Stage 1</td>\n      <td>Rokkr</td>\n      <td>3</td>\n      <td>1</td>\n      <td>31</td>\n      <td>Win</td>\n    </tr>\n    <tr>\n      <th>33</th>\n      <td>Pred</td>\n      <td>Optic</td>\n      <td>Surge</td>\n      <td>Jan 27, 2024</td>\n      <td>Stage 1</td>\n      <td>55.0</td>\n      <td>88</td>\n      <td>67</td>\n      <td>1.31</td>\n      <td>27.94</td>\n      <td>26.17</td>\n      <td>Jan 27, 2024</td>\n      <td>Stage 1</td>\n      <td>Surge</td>\n      <td>3</td>\n      <td>1</td>\n      <td>59</td>\n      <td>Win</td>\n    </tr>\n    <tr>\n      <th>52</th>\n      <td>Pred</td>\n      <td>Optic</td>\n      <td>Faze</td>\n      <td>Jan 27, 2024</td>\n      <td>Stage 1</td>\n      <td>53.0</td>\n      <td>92</td>\n      <td>78</td>\n      <td>1.18</td>\n      <td>29.68</td>\n      <td>23.21</td>\n      <td>Jan 27, 2024</td>\n      <td>Stage 1</td>\n      <td>Faze</td>\n      <td>2</td>\n      <td>3</td>\n      <td>-26</td>\n      <td>Loss</td>\n    </tr>\n    <tr>\n      <th>105</th>\n      <td>Pred</td>\n      <td>Optic</td>\n      <td>Heretics</td>\n      <td>Jan 25, 2024</td>\n      <td>Stage 1</td>\n      <td>46.0</td>\n      <td>51</td>\n      <td>44</td>\n      <td>1.16</td>\n      <td>25.00</td>\n      <td>26.51</td>\n      <td>Jan 25, 2024</td>\n      <td>Stage 1</td>\n      <td>Heretics</td>\n      <td>3</td>\n      <td>0</td>\n      <td>38</td>\n      <td>Win</td>\n    </tr>\n    <tr>\n      <th>143</th>\n      <td>Pred</td>\n      <td>Optic</td>\n      <td>Faze</td>\n      <td>Jan 21, 2024</td>\n      <td>Stage 1</td>\n      <td>42.0</td>\n      <td>56</td>\n      <td>54</td>\n      <td>1.04</td>\n      <td>29.02</td>\n      <td>24.00</td>\n      <td>Jan 21, 2024</td>\n      <td>Stage 1</td>\n      <td>Faze</td>\n      <td>0</td>\n      <td>3</td>\n      <td>-32</td>\n      <td>Loss</td>\n    </tr>\n    <tr>\n      <th>200</th>\n      <td>Pred</td>\n      <td>Optic</td>\n      <td>Heretics</td>\n      <td>Jan 19, 2024</td>\n      <td>Stage 1</td>\n      <td>34.0</td>\n      <td>34</td>\n      <td>44</td>\n      <td>0.77</td>\n      <td>22.37</td>\n      <td>25.14</td>\n      <td>Jan 19, 2024</td>\n      <td>Stage 1</td>\n      <td>Heretics</td>\n      <td>0</td>\n      <td>3</td>\n      <td>-23</td>\n      <td>Loss</td>\n    </tr>\n    <tr>\n      <th>253</th>\n      <td>Pred</td>\n      <td>Optic</td>\n      <td>Legion</td>\n      <td>Jan 13, 2024</td>\n      <td>Stage 1</td>\n      <td>28.0</td>\n      <td>68</td>\n      <td>65</td>\n      <td>1.05</td>\n      <td>25.28</td>\n      <td>24.62</td>\n      <td>Jan 13, 2024</td>\n      <td>Stage 1</td>\n      <td>Legion</td>\n      <td>3</td>\n      <td>2</td>\n      <td>5</td>\n      <td>Win</td>\n    </tr>\n    <tr>\n      <th>325</th>\n      <td>Pred</td>\n      <td>Optic</td>\n      <td>Royal Ravens</td>\n      <td>Dec 17, 2023</td>\n      <td>Stage 1</td>\n      <td>19.0</td>\n      <td>46</td>\n      <td>32</td>\n      <td>1.44</td>\n      <td>25.14</td>\n      <td>26.67</td>\n      <td>Dec 17, 2023</td>\n      <td>Stage 1</td>\n      <td>Royal Ravens</td>\n      <td>3</td>\n      <td>0</td>\n      <td>63</td>\n      <td>Win</td>\n    </tr>\n    <tr>\n      <th>365</th>\n      <td>Pred</td>\n      <td>Optic</td>\n      <td>Surge</td>\n      <td>Dec 15, 2023</td>\n      <td>Stage 1</td>\n      <td>14.0</td>\n      <td>83</td>\n      <td>63</td>\n      <td>1.32</td>\n      <td>30.97</td>\n      <td>25.30</td>\n      <td>Dec 15, 2023</td>\n      <td>Stage 1</td>\n      <td>Surge</td>\n      <td>3</td>\n      <td>1</td>\n      <td>19</td>\n      <td>Win</td>\n    </tr>\n    <tr>\n      <th>389</th>\n      <td>Pred</td>\n      <td>Optic</td>\n      <td>Rokkr</td>\n      <td>Dec 10, 2023</td>\n      <td>Stage 1</td>\n      <td>11.0</td>\n      <td>81</td>\n      <td>60</td>\n      <td>1.35</td>\n      <td>27.27</td>\n      <td>23.90</td>\n      <td>Dec 10, 2023</td>\n      <td>Stage 1</td>\n      <td>Rokkr</td>\n      <td>3</td>\n      <td>1</td>\n      <td>46</td>\n      <td>Win</td>\n    </tr>\n    <tr>\n      <th>453</th>\n      <td>Pred</td>\n      <td>Optic</td>\n      <td>Subliners</td>\n      <td>Dec 8, 2023</td>\n      <td>Stage 1</td>\n      <td>3.0</td>\n      <td>74</td>\n      <td>75</td>\n      <td>0.99</td>\n      <td>22.84</td>\n      <td>23.66</td>\n      <td>Dec 8, 2023</td>\n      <td>Stage 1</td>\n      <td>Subliners</td>\n      <td>2</td>\n      <td>3</td>\n      <td>7</td>\n      <td>Loss</td>\n    </tr>\n  </tbody>\n</table>\n</div>"
     },
     "execution_count": 75,
     "metadata": {},
     "output_type": "execute_result"
    }
   ],
   "source": [
    "pred_df = merged_left[merged_left['Player']=='Pred']\n",
    "pred_df"
   ],
   "metadata": {
    "collapsed": false,
    "ExecuteTime": {
     "end_time": "2024-02-03T19:32:05.516537Z",
     "start_time": "2024-02-03T19:32:05.511942Z"
    }
   },
   "id": "c6d20f75ffce0117"
  },
  {
   "cell_type": "code",
   "execution_count": 81,
   "outputs": [
    {
     "data": {
      "text/plain": "10"
     },
     "execution_count": 81,
     "metadata": {},
     "output_type": "execute_result"
    }
   ],
   "source": [
    "pred_df[pred_df['K/D']>average_kd]['K/D'].count()"
   ],
   "metadata": {
    "collapsed": false,
    "ExecuteTime": {
     "end_time": "2024-02-03T19:40:40.326767Z",
     "start_time": "2024-02-03T19:40:40.315241Z"
    }
   },
   "id": "ab3000616c5ca99f"
  },
  {
   "cell_type": "code",
   "execution_count": 82,
   "outputs": [
    {
     "data": {
      "text/plain": "7"
     },
     "execution_count": 82,
     "metadata": {},
     "output_type": "execute_result"
    }
   ],
   "source": [
    "pred_df[(pred_df['K/D']>average_kd) & (pred_df['Win/Loss']=='Win')]['Win/Loss'].count()"
   ],
   "metadata": {
    "collapsed": false,
    "ExecuteTime": {
     "end_time": "2024-02-03T19:40:44.344528Z",
     "start_time": "2024-02-03T19:40:44.338786Z"
    }
   },
   "id": "be83fc39440c3c62"
  },
  {
   "cell_type": "markdown",
   "source": [
    "Okay so right off the bat we see a couple interesting things here. Pred went above the average KD mark in 10/12 games over Major 1, and they won 7 out of those 10 games. Who were the three losses to? You guessed it, Faze."
   ],
   "metadata": {
    "collapsed": false
   },
   "id": "61c1a86e807b63b3"
  },
  {
   "cell_type": "code",
   "execution_count": 79,
   "outputs": [
    {
     "data": {
      "text/plain": "9"
     },
     "execution_count": 79,
     "metadata": {},
     "output_type": "execute_result"
    }
   ],
   "source": [
    "pred_df[pred_df['% of Teams Kills']>average_team_kills]['% of Teams Kills'].count()"
   ],
   "metadata": {
    "collapsed": false,
    "ExecuteTime": {
     "end_time": "2024-02-03T19:39:33.184639Z",
     "start_time": "2024-02-03T19:39:33.159369Z"
    }
   },
   "id": "f612e0c81eb9bb49"
  },
  {
   "cell_type": "code",
   "execution_count": 80,
   "outputs": [
    {
     "data": {
      "text/plain": "6"
     },
     "execution_count": 80,
     "metadata": {},
     "output_type": "execute_result"
    }
   ],
   "source": [
    "pred_df[(pred_df['% of Teams Kills']>average_team_kills) & (pred_df['% of Teams Deaths']<average_team_deaths)]['Player'].count()"
   ],
   "metadata": {
    "collapsed": false,
    "ExecuteTime": {
     "end_time": "2024-02-03T19:40:34.767399Z",
     "start_time": "2024-02-03T19:40:34.743112Z"
    }
   },
   "id": "5a837c247d5ca122"
  },
  {
   "cell_type": "markdown",
   "source": [
    "When analyzing Pred's overall stats I noticed he was having a lot of high kills series. So I dove into the % of the teams kills he had each series. In 9 of the 12 series he had over the league average of % of his teams kills, which is 25%. With a whopping 31.88% of his teams kills in their Losers bracket final matchup vs Faze in Major 1. That percentage is good for 9th best for the whole Major."
   ],
   "metadata": {
    "collapsed": false
   },
   "id": "7e64a1e854a3a4ff"
  },
  {
   "cell_type": "markdown",
   "source": [],
   "metadata": {
    "collapsed": false
   },
   "id": "f09ce59dec79df12"
  },
  {
   "cell_type": "code",
   "execution_count": 87,
   "outputs": [
    {
     "data": {
      "text/plain": "   Player   Team Opponent_x        Date_x  Stage_x  Series ID  Kills  Deaths  \\\n13  Scrap  Ultra       Faze  Jan 28, 2024  Stage 1       58.0     97      90   \n52   Pred  Optic       Faze  Jan 27, 2024  Stage 1       53.0     92      78   \n\n     K/D  % of Teams Kills  % of Teams Deaths        Date_y  Stage_y  \\\n13  1.08             28.53              24.86  Jan 28, 2024  Stage 1   \n52  1.18             29.68              23.21  Jan 27, 2024  Stage 1   \n\n   Opponent_y  Maps Won  Maps Lost  Net Kills Win/Loss  \n13       Faze         3          1        -22      Win  \n52       Faze         2          3        -26     Loss  ",
      "text/html": "<div>\n<style scoped>\n    .dataframe tbody tr th:only-of-type {\n        vertical-align: middle;\n    }\n\n    .dataframe tbody tr th {\n        vertical-align: top;\n    }\n\n    .dataframe thead th {\n        text-align: right;\n    }\n</style>\n<table border=\"1\" class=\"dataframe\">\n  <thead>\n    <tr style=\"text-align: right;\">\n      <th></th>\n      <th>Player</th>\n      <th>Team</th>\n      <th>Opponent_x</th>\n      <th>Date_x</th>\n      <th>Stage_x</th>\n      <th>Series ID</th>\n      <th>Kills</th>\n      <th>Deaths</th>\n      <th>K/D</th>\n      <th>% of Teams Kills</th>\n      <th>% of Teams Deaths</th>\n      <th>Date_y</th>\n      <th>Stage_y</th>\n      <th>Opponent_y</th>\n      <th>Maps Won</th>\n      <th>Maps Lost</th>\n      <th>Net Kills</th>\n      <th>Win/Loss</th>\n    </tr>\n  </thead>\n  <tbody>\n    <tr>\n      <th>13</th>\n      <td>Scrap</td>\n      <td>Ultra</td>\n      <td>Faze</td>\n      <td>Jan 28, 2024</td>\n      <td>Stage 1</td>\n      <td>58.0</td>\n      <td>97</td>\n      <td>90</td>\n      <td>1.08</td>\n      <td>28.53</td>\n      <td>24.86</td>\n      <td>Jan 28, 2024</td>\n      <td>Stage 1</td>\n      <td>Faze</td>\n      <td>3</td>\n      <td>1</td>\n      <td>-22</td>\n      <td>Win</td>\n    </tr>\n    <tr>\n      <th>52</th>\n      <td>Pred</td>\n      <td>Optic</td>\n      <td>Faze</td>\n      <td>Jan 27, 2024</td>\n      <td>Stage 1</td>\n      <td>53.0</td>\n      <td>92</td>\n      <td>78</td>\n      <td>1.18</td>\n      <td>29.68</td>\n      <td>23.21</td>\n      <td>Jan 27, 2024</td>\n      <td>Stage 1</td>\n      <td>Faze</td>\n      <td>2</td>\n      <td>3</td>\n      <td>-26</td>\n      <td>Loss</td>\n    </tr>\n  </tbody>\n</table>\n</div>"
     },
     "execution_count": 87,
     "metadata": {},
     "output_type": "execute_result"
    }
   ],
   "source": [
    "merged_left[(merged_left['Kills']>90) & (merged_left['Opponent_x']=='Faze')]"
   ],
   "metadata": {
    "collapsed": false,
    "ExecuteTime": {
     "end_time": "2024-02-03T19:49:07.601395Z",
     "start_time": "2024-02-03T19:49:07.594430Z"
    }
   },
   "id": "423cd64b91b0158b"
  },
  {
   "cell_type": "markdown",
   "source": [
    "These are my biggest takeaways from Pred's Major 1:\n",
    "1) Pred is only 1 of 2 plays the whole Major to drop over 90 kills on Faze; Scrap being the other one. This along with his high KD in all three matches against Faze show that, unlike Shotzzy and Dashy, he actually plays pretty well vs them\n",
    "2) Pred having over 25% of his teams kills in 9/12 series in Major 1 shows just how big of an impact he is on the map. His stats and play throughout this Major is reminiscent of the retired Optic legend Scumpii. \n",
    "3) Another impressive stat I noticed was that Pred's lowest KD on LAN was 1.16. While he is still good online, his best performances come on LAN.\n",
    "4) To close it out, Pred clearly plays a big role on this team, as long as he continues to play well and lead this team they should all follow suit behind him."
   ],
   "metadata": {
    "collapsed": false
   },
   "id": "99b95b00be2c9d33"
  },
  {
   "cell_type": "markdown",
   "source": [
    "Okay now lets take a look at Optics other off-season pickup, Kenny"
   ],
   "metadata": {
    "collapsed": false
   },
   "id": "7001e5de356a11a9"
  },
  {
   "cell_type": "code",
   "execution_count": 89,
   "outputs": [
    {
     "data": {
      "text/plain": "    Player   Team    Opponent_x        Date_x  Stage_x  Series ID  Kills  \\\n6    Kenny  Optic          Faze  Jan 28, 2024  Stage 1       59.0     51   \n19   Kenny  Optic         Rokkr  Jan 28, 2024  Stage 1       57.0     66   \n36   Kenny  Optic         Surge  Jan 27, 2024  Stage 1       55.0     84   \n49   Kenny  Optic          Faze  Jan 27, 2024  Stage 1       53.0     84   \n109  Kenny  Optic      Heretics  Jan 25, 2024  Stage 1       46.0     53   \n142  Kenny  Optic          Faze  Jan 21, 2024  Stage 1       42.0     48   \n207  Kenny  Optic      Heretics  Jan 19, 2024  Stage 1       34.0     35   \n255  Kenny  Optic        Legion  Jan 13, 2024  Stage 1       28.0     78   \n327  Kenny  Optic  Royal Ravens  Dec 17, 2023  Stage 1       19.0     45   \n367  Kenny  Optic         Surge  Dec 15, 2023  Stage 1       14.0     69   \n391  Kenny  Optic         Rokkr  Dec 10, 2023  Stage 1       11.0     62   \n455  Kenny  Optic     Subliners   Dec 8, 2023  Stage 1        3.0     99   \n\n     Deaths   K/D  % of Teams Kills  % of Teams Deaths        Date_y  Stage_y  \\\n6        73  0.70             22.27              26.84  Jan 28, 2024  Stage 1   \n19       65  1.02             23.83              26.42  Jan 28, 2024  Stage 1   \n36       65  1.29             26.67              25.39  Jan 27, 2024  Stage 1   \n49       86  0.98             27.10              25.60  Jan 27, 2024  Stage 1   \n109      52  1.02             25.98              31.33  Jan 25, 2024  Stage 1   \n142      60  0.80             24.87              26.67  Jan 21, 2024  Stage 1   \n207      40  0.88             23.03              22.86  Jan 19, 2024  Stage 1   \n255      67  1.16             29.00              25.38  Jan 13, 2024  Stage 1   \n327      29  1.55             24.59              24.17  Dec 17, 2023  Stage 1   \n367      73  0.95             25.75              29.32  Dec 15, 2023  Stage 1   \n391      65  0.95             20.88              25.90  Dec 10, 2023  Stage 1   \n455      83  1.19             30.56              26.18   Dec 8, 2023  Stage 1   \n\n       Opponent_y  Maps Won  Maps Lost  Net Kills Win/Loss  \n6            Faze         1          3        -43     Loss  \n19          Rokkr         3          1         31      Win  \n36          Surge         3          1         59      Win  \n49           Faze         2          3        -26     Loss  \n109      Heretics         3          0         38      Win  \n142          Faze         0          3        -32     Loss  \n207      Heretics         0          3        -23     Loss  \n255        Legion         3          2          5      Win  \n327  Royal Ravens         3          0         63      Win  \n367         Surge         3          1         19      Win  \n391         Rokkr         3          1         46      Win  \n455     Subliners         2          3          7     Loss  ",
      "text/html": "<div>\n<style scoped>\n    .dataframe tbody tr th:only-of-type {\n        vertical-align: middle;\n    }\n\n    .dataframe tbody tr th {\n        vertical-align: top;\n    }\n\n    .dataframe thead th {\n        text-align: right;\n    }\n</style>\n<table border=\"1\" class=\"dataframe\">\n  <thead>\n    <tr style=\"text-align: right;\">\n      <th></th>\n      <th>Player</th>\n      <th>Team</th>\n      <th>Opponent_x</th>\n      <th>Date_x</th>\n      <th>Stage_x</th>\n      <th>Series ID</th>\n      <th>Kills</th>\n      <th>Deaths</th>\n      <th>K/D</th>\n      <th>% of Teams Kills</th>\n      <th>% of Teams Deaths</th>\n      <th>Date_y</th>\n      <th>Stage_y</th>\n      <th>Opponent_y</th>\n      <th>Maps Won</th>\n      <th>Maps Lost</th>\n      <th>Net Kills</th>\n      <th>Win/Loss</th>\n    </tr>\n  </thead>\n  <tbody>\n    <tr>\n      <th>6</th>\n      <td>Kenny</td>\n      <td>Optic</td>\n      <td>Faze</td>\n      <td>Jan 28, 2024</td>\n      <td>Stage 1</td>\n      <td>59.0</td>\n      <td>51</td>\n      <td>73</td>\n      <td>0.70</td>\n      <td>22.27</td>\n      <td>26.84</td>\n      <td>Jan 28, 2024</td>\n      <td>Stage 1</td>\n      <td>Faze</td>\n      <td>1</td>\n      <td>3</td>\n      <td>-43</td>\n      <td>Loss</td>\n    </tr>\n    <tr>\n      <th>19</th>\n      <td>Kenny</td>\n      <td>Optic</td>\n      <td>Rokkr</td>\n      <td>Jan 28, 2024</td>\n      <td>Stage 1</td>\n      <td>57.0</td>\n      <td>66</td>\n      <td>65</td>\n      <td>1.02</td>\n      <td>23.83</td>\n      <td>26.42</td>\n      <td>Jan 28, 2024</td>\n      <td>Stage 1</td>\n      <td>Rokkr</td>\n      <td>3</td>\n      <td>1</td>\n      <td>31</td>\n      <td>Win</td>\n    </tr>\n    <tr>\n      <th>36</th>\n      <td>Kenny</td>\n      <td>Optic</td>\n      <td>Surge</td>\n      <td>Jan 27, 2024</td>\n      <td>Stage 1</td>\n      <td>55.0</td>\n      <td>84</td>\n      <td>65</td>\n      <td>1.29</td>\n      <td>26.67</td>\n      <td>25.39</td>\n      <td>Jan 27, 2024</td>\n      <td>Stage 1</td>\n      <td>Surge</td>\n      <td>3</td>\n      <td>1</td>\n      <td>59</td>\n      <td>Win</td>\n    </tr>\n    <tr>\n      <th>49</th>\n      <td>Kenny</td>\n      <td>Optic</td>\n      <td>Faze</td>\n      <td>Jan 27, 2024</td>\n      <td>Stage 1</td>\n      <td>53.0</td>\n      <td>84</td>\n      <td>86</td>\n      <td>0.98</td>\n      <td>27.10</td>\n      <td>25.60</td>\n      <td>Jan 27, 2024</td>\n      <td>Stage 1</td>\n      <td>Faze</td>\n      <td>2</td>\n      <td>3</td>\n      <td>-26</td>\n      <td>Loss</td>\n    </tr>\n    <tr>\n      <th>109</th>\n      <td>Kenny</td>\n      <td>Optic</td>\n      <td>Heretics</td>\n      <td>Jan 25, 2024</td>\n      <td>Stage 1</td>\n      <td>46.0</td>\n      <td>53</td>\n      <td>52</td>\n      <td>1.02</td>\n      <td>25.98</td>\n      <td>31.33</td>\n      <td>Jan 25, 2024</td>\n      <td>Stage 1</td>\n      <td>Heretics</td>\n      <td>3</td>\n      <td>0</td>\n      <td>38</td>\n      <td>Win</td>\n    </tr>\n    <tr>\n      <th>142</th>\n      <td>Kenny</td>\n      <td>Optic</td>\n      <td>Faze</td>\n      <td>Jan 21, 2024</td>\n      <td>Stage 1</td>\n      <td>42.0</td>\n      <td>48</td>\n      <td>60</td>\n      <td>0.80</td>\n      <td>24.87</td>\n      <td>26.67</td>\n      <td>Jan 21, 2024</td>\n      <td>Stage 1</td>\n      <td>Faze</td>\n      <td>0</td>\n      <td>3</td>\n      <td>-32</td>\n      <td>Loss</td>\n    </tr>\n    <tr>\n      <th>207</th>\n      <td>Kenny</td>\n      <td>Optic</td>\n      <td>Heretics</td>\n      <td>Jan 19, 2024</td>\n      <td>Stage 1</td>\n      <td>34.0</td>\n      <td>35</td>\n      <td>40</td>\n      <td>0.88</td>\n      <td>23.03</td>\n      <td>22.86</td>\n      <td>Jan 19, 2024</td>\n      <td>Stage 1</td>\n      <td>Heretics</td>\n      <td>0</td>\n      <td>3</td>\n      <td>-23</td>\n      <td>Loss</td>\n    </tr>\n    <tr>\n      <th>255</th>\n      <td>Kenny</td>\n      <td>Optic</td>\n      <td>Legion</td>\n      <td>Jan 13, 2024</td>\n      <td>Stage 1</td>\n      <td>28.0</td>\n      <td>78</td>\n      <td>67</td>\n      <td>1.16</td>\n      <td>29.00</td>\n      <td>25.38</td>\n      <td>Jan 13, 2024</td>\n      <td>Stage 1</td>\n      <td>Legion</td>\n      <td>3</td>\n      <td>2</td>\n      <td>5</td>\n      <td>Win</td>\n    </tr>\n    <tr>\n      <th>327</th>\n      <td>Kenny</td>\n      <td>Optic</td>\n      <td>Royal Ravens</td>\n      <td>Dec 17, 2023</td>\n      <td>Stage 1</td>\n      <td>19.0</td>\n      <td>45</td>\n      <td>29</td>\n      <td>1.55</td>\n      <td>24.59</td>\n      <td>24.17</td>\n      <td>Dec 17, 2023</td>\n      <td>Stage 1</td>\n      <td>Royal Ravens</td>\n      <td>3</td>\n      <td>0</td>\n      <td>63</td>\n      <td>Win</td>\n    </tr>\n    <tr>\n      <th>367</th>\n      <td>Kenny</td>\n      <td>Optic</td>\n      <td>Surge</td>\n      <td>Dec 15, 2023</td>\n      <td>Stage 1</td>\n      <td>14.0</td>\n      <td>69</td>\n      <td>73</td>\n      <td>0.95</td>\n      <td>25.75</td>\n      <td>29.32</td>\n      <td>Dec 15, 2023</td>\n      <td>Stage 1</td>\n      <td>Surge</td>\n      <td>3</td>\n      <td>1</td>\n      <td>19</td>\n      <td>Win</td>\n    </tr>\n    <tr>\n      <th>391</th>\n      <td>Kenny</td>\n      <td>Optic</td>\n      <td>Rokkr</td>\n      <td>Dec 10, 2023</td>\n      <td>Stage 1</td>\n      <td>11.0</td>\n      <td>62</td>\n      <td>65</td>\n      <td>0.95</td>\n      <td>20.88</td>\n      <td>25.90</td>\n      <td>Dec 10, 2023</td>\n      <td>Stage 1</td>\n      <td>Rokkr</td>\n      <td>3</td>\n      <td>1</td>\n      <td>46</td>\n      <td>Win</td>\n    </tr>\n    <tr>\n      <th>455</th>\n      <td>Kenny</td>\n      <td>Optic</td>\n      <td>Subliners</td>\n      <td>Dec 8, 2023</td>\n      <td>Stage 1</td>\n      <td>3.0</td>\n      <td>99</td>\n      <td>83</td>\n      <td>1.19</td>\n      <td>30.56</td>\n      <td>26.18</td>\n      <td>Dec 8, 2023</td>\n      <td>Stage 1</td>\n      <td>Subliners</td>\n      <td>2</td>\n      <td>3</td>\n      <td>7</td>\n      <td>Loss</td>\n    </tr>\n  </tbody>\n</table>\n</div>"
     },
     "execution_count": 89,
     "metadata": {},
     "output_type": "execute_result"
    }
   ],
   "source": [
    "kenny_df = merged_left[merged_left['Player']=='Kenny']\n",
    "kenny_df"
   ],
   "metadata": {
    "collapsed": false,
    "ExecuteTime": {
     "end_time": "2024-02-03T19:58:53.102115Z",
     "start_time": "2024-02-03T19:58:53.098477Z"
    }
   },
   "id": "7e6fb8f2d27f8290"
  },
  {
   "cell_type": "code",
   "execution_count": 91,
   "outputs": [
    {
     "data": {
      "text/plain": "6"
     },
     "execution_count": 91,
     "metadata": {},
     "output_type": "execute_result"
    }
   ],
   "source": [
    "kenny_df[kenny_df['K/D']>average_kd]['Player'].count()"
   ],
   "metadata": {
    "collapsed": false,
    "ExecuteTime": {
     "end_time": "2024-02-03T20:03:20.719220Z",
     "start_time": "2024-02-03T20:03:20.694869Z"
    }
   },
   "id": "b66008839eceba85"
  },
  {
   "cell_type": "code",
   "execution_count": 93,
   "outputs": [
    {
     "data": {
      "text/plain": "5"
     },
     "execution_count": 93,
     "metadata": {},
     "output_type": "execute_result"
    }
   ],
   "source": [
    "kenny_df[(kenny_df['K/D']>average_kd) & (kenny_df['Win/Loss']=='Win')]['Player'].count()"
   ],
   "metadata": {
    "collapsed": false,
    "ExecuteTime": {
     "end_time": "2024-02-03T20:04:18.624567Z",
     "start_time": "2024-02-03T20:04:18.611102Z"
    }
   },
   "id": "d29dda0e32ab6c11"
  },
  {
   "cell_type": "code",
   "execution_count": 94,
   "outputs": [
    {
     "data": {
      "text/plain": "2"
     },
     "execution_count": 94,
     "metadata": {},
     "output_type": "execute_result"
    }
   ],
   "source": [
    "kenny_df[(kenny_df['K/D']<average_kd) & (kenny_df['Win/Loss']=='Win')]['Player'].count()"
   ],
   "metadata": {
    "collapsed": false,
    "ExecuteTime": {
     "end_time": "2024-02-03T20:04:37.469292Z",
     "start_time": "2024-02-03T20:04:37.442393Z"
    }
   },
   "id": "b8728881df07e080"
  },
  {
   "cell_type": "code",
   "execution_count": 99,
   "outputs": [
    {
     "data": {
      "text/plain": "4"
     },
     "execution_count": 99,
     "metadata": {},
     "output_type": "execute_result"
    }
   ],
   "source": [
    "kenny_df[(kenny_df['K/D']<average_kd) & (kenny_df['Win/Loss']=='Loss')]['Player'].count()"
   ],
   "metadata": {
    "collapsed": false,
    "ExecuteTime": {
     "end_time": "2024-02-03T20:12:13.445902Z",
     "start_time": "2024-02-03T20:12:13.442134Z"
    }
   },
   "id": "c538ea57db10c1e5"
  },
  {
   "cell_type": "code",
   "execution_count": 98,
   "outputs": [
    {
     "data": {
      "text/plain": "10"
     },
     "execution_count": 98,
     "metadata": {},
     "output_type": "execute_result"
    }
   ],
   "source": [
    "kenny_df[kenny_df['% of Teams Deaths']> average_team_deaths]['Player'].count()"
   ],
   "metadata": {
    "collapsed": false,
    "ExecuteTime": {
     "end_time": "2024-02-03T20:12:05.415884Z",
     "start_time": "2024-02-03T20:12:05.403748Z"
    }
   },
   "id": "2c48f3d6036964fc"
  },
  {
   "cell_type": "markdown",
   "source": [
    "Recap of Kenny's Major 1:\n",
    "1) Overall Kenny had a very average Major. Going above the average KD 6 times, the team won 5/6 of those times. This is pretty standard across the team, as in when a player does well they usually tend to win.\n",
    "2) Following that up, one noticeable stat from Kenny was that he had over 25% of the teams deaths in 10 out of 12 matches in major 1. This could turn into a problem for Optic if he doesnt get this under control quickly. With the role he plays on the team, he should not be over a quarter of the teams deaths. This just goes back to winning those 1 on 1 gun fights a lot of the time.\n",
    "3) Overall, not a terrible Major from Kenny, but he certainly needs to clean up his deaths going into the next Major. Every loss but one, he accounted for over 25% of the deaths for his team. This could turn out to be a pivotal reason on if Optic wins or loses going forward."
   ],
   "metadata": {
    "collapsed": false
   },
   "id": "4cc3ba393c60f21c"
  },
  {
   "cell_type": "code",
   "execution_count": 103,
   "outputs": [
    {
     "data": {
      "text/plain": "10"
     },
     "execution_count": 103,
     "metadata": {},
     "output_type": "execute_result"
    }
   ],
   "source": [
    "shotzzy_df[shotzzy_df['% of Teams Deaths']> average_team_deaths]['Player'].count()"
   ],
   "metadata": {
    "collapsed": false,
    "ExecuteTime": {
     "end_time": "2024-02-03T20:20:56.992756Z",
     "start_time": "2024-02-03T20:20:56.979114Z"
    }
   },
   "id": "520c1ed6d78bc186"
  },
  {
   "cell_type": "code",
   "execution_count": 104,
   "outputs": [
    {
     "data": {
      "text/plain": "1"
     },
     "execution_count": 104,
     "metadata": {},
     "output_type": "execute_result"
    }
   ],
   "source": [
    "dashy_df[dashy_df['% of Teams Deaths']> average_team_deaths]['Player'].count()"
   ],
   "metadata": {
    "collapsed": false,
    "ExecuteTime": {
     "end_time": "2024-02-03T20:21:07.391455Z",
     "start_time": "2024-02-03T20:21:07.378147Z"
    }
   },
   "id": "9f86035108156585"
  },
  {
   "cell_type": "code",
   "execution_count": 105,
   "outputs": [
    {
     "data": {
      "text/plain": "5"
     },
     "execution_count": 105,
     "metadata": {},
     "output_type": "execute_result"
    }
   ],
   "source": [
    "pred_df[pred_df['% of Teams Deaths']> average_team_deaths]['Player'].count()"
   ],
   "metadata": {
    "collapsed": false,
    "ExecuteTime": {
     "end_time": "2024-02-03T20:21:19.551097Z",
     "start_time": "2024-02-03T20:21:19.539281Z"
    }
   },
   "id": "18a4bad5c3fad9a7"
  },
  {
   "cell_type": "markdown",
   "source": [
    "WHOLE TEAM RECAP FOR MAJOR 1:\n",
    "1) Without a doubt the two best players for Optic in Major 1 was Pred and Dashy. Kenny and Shotzzy had unusually poor performances in comparison to their two counterparts.\n",
    "2) As you can see above, I went ahead and checked every players count of how many times they went over 25% of the teams deaths. Shottzy and Kenny both with 10, while Dashy and Pred have 1 and 5. This undoubtedly contributes to the individual players success, which in turn plays into how the team performs.\n",
    "3) To wrap up, Optic had a good Major finishing 3rd overall. I think with a little better play from Kenny and Shotzzy this team could become a force to be reckoned with. I am looking forward to the adjustments they make going into Major 2"
   ],
   "metadata": {
    "collapsed": false
   },
   "id": "2ea2e86e65dc6c7e"
  },
  {
   "cell_type": "code",
   "execution_count": null,
   "outputs": [],
   "source": [],
   "metadata": {
    "collapsed": false
   },
   "id": "221f00c1497bc6d"
  }
 ],
 "metadata": {
  "kernelspec": {
   "display_name": "Python 3",
   "language": "python",
   "name": "python3"
  },
  "language_info": {
   "codemirror_mode": {
    "name": "ipython",
    "version": 2
   },
   "file_extension": ".py",
   "mimetype": "text/x-python",
   "name": "python",
   "nbconvert_exporter": "python",
   "pygments_lexer": "ipython2",
   "version": "2.7.6"
  }
 },
 "nbformat": 4,
 "nbformat_minor": 5
}
