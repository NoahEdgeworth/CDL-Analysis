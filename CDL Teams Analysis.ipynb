{
 "cells": [
  {
   "cell_type": "code",
   "execution_count": 1,
   "id": "initial_id",
   "metadata": {
    "collapsed": true,
    "ExecuteTime": {
     "end_time": "2024-01-30T00:50:10.505453Z",
     "start_time": "2024-01-30T00:50:10.233212Z"
    }
   },
   "outputs": [],
   "source": [
    "import pandas as pd"
   ]
  },
  {
   "cell_type": "code",
   "execution_count": 1,
   "outputs": [],
   "source": [
    "team_overall = pd.read_csv('Team Stats/Team Dashboard_League Wide Overview_Table.csv')\n",
    "team_overall"
   ],
   "metadata": {
    "collapsed": false,
    "ExecuteTime": {
     "end_time": "2024-02-08T18:54:56.479948Z",
     "start_time": "2024-02-08T18:54:56.135224Z"
    }
   },
   "id": "8179ce6429136869"
  },
  {
   "cell_type": "code",
   "execution_count": 3,
   "outputs": [
    {
     "data": {
      "text/plain": "            Team Map Win % HP Win % SND Win % Control Win %\n0          Ultra       80%      94%       67%           70%\n1           Faze       72%      58%       92%           73%\n2       Heretics       56%      54%       50%           67%\n3      Subliners       56%      47%       75%           44%\n4          Optic       55%      70%       33%           58%\n5          Rokkr       47%      44%       50%           45%\n6          Surge       43%      35%       73%           18%\n7         Breach       42%      43%       27%           63%\n8     Guerrillas       40%      47%       29%           45%\n9         Legion       38%      40%       46%           22%\n10  Royal Ravens       33%      50%       15%           33%\n11       Thieves       33%       8%       44%           63%",
      "text/html": "<div>\n<style scoped>\n    .dataframe tbody tr th:only-of-type {\n        vertical-align: middle;\n    }\n\n    .dataframe tbody tr th {\n        vertical-align: top;\n    }\n\n    .dataframe thead th {\n        text-align: right;\n    }\n</style>\n<table border=\"1\" class=\"dataframe\">\n  <thead>\n    <tr style=\"text-align: right;\">\n      <th></th>\n      <th>Team</th>\n      <th>Map Win %</th>\n      <th>HP Win %</th>\n      <th>SND Win %</th>\n      <th>Control Win %</th>\n    </tr>\n  </thead>\n  <tbody>\n    <tr>\n      <th>0</th>\n      <td>Ultra</td>\n      <td>80%</td>\n      <td>94%</td>\n      <td>67%</td>\n      <td>70%</td>\n    </tr>\n    <tr>\n      <th>1</th>\n      <td>Faze</td>\n      <td>72%</td>\n      <td>58%</td>\n      <td>92%</td>\n      <td>73%</td>\n    </tr>\n    <tr>\n      <th>2</th>\n      <td>Heretics</td>\n      <td>56%</td>\n      <td>54%</td>\n      <td>50%</td>\n      <td>67%</td>\n    </tr>\n    <tr>\n      <th>3</th>\n      <td>Subliners</td>\n      <td>56%</td>\n      <td>47%</td>\n      <td>75%</td>\n      <td>44%</td>\n    </tr>\n    <tr>\n      <th>4</th>\n      <td>Optic</td>\n      <td>55%</td>\n      <td>70%</td>\n      <td>33%</td>\n      <td>58%</td>\n    </tr>\n    <tr>\n      <th>5</th>\n      <td>Rokkr</td>\n      <td>47%</td>\n      <td>44%</td>\n      <td>50%</td>\n      <td>45%</td>\n    </tr>\n    <tr>\n      <th>6</th>\n      <td>Surge</td>\n      <td>43%</td>\n      <td>35%</td>\n      <td>73%</td>\n      <td>18%</td>\n    </tr>\n    <tr>\n      <th>7</th>\n      <td>Breach</td>\n      <td>42%</td>\n      <td>43%</td>\n      <td>27%</td>\n      <td>63%</td>\n    </tr>\n    <tr>\n      <th>8</th>\n      <td>Guerrillas</td>\n      <td>40%</td>\n      <td>47%</td>\n      <td>29%</td>\n      <td>45%</td>\n    </tr>\n    <tr>\n      <th>9</th>\n      <td>Legion</td>\n      <td>38%</td>\n      <td>40%</td>\n      <td>46%</td>\n      <td>22%</td>\n    </tr>\n    <tr>\n      <th>10</th>\n      <td>Royal Ravens</td>\n      <td>33%</td>\n      <td>50%</td>\n      <td>15%</td>\n      <td>33%</td>\n    </tr>\n    <tr>\n      <th>11</th>\n      <td>Thieves</td>\n      <td>33%</td>\n      <td>8%</td>\n      <td>44%</td>\n      <td>63%</td>\n    </tr>\n  </tbody>\n</table>\n</div>"
     },
     "execution_count": 3,
     "metadata": {},
     "output_type": "execute_result"
    }
   ],
   "source": [
    "team_overall.sort_values('Map Win %', ascending=False)"
   ],
   "metadata": {
    "collapsed": false,
    "ExecuteTime": {
     "end_time": "2024-01-30T00:52:08.295279Z",
     "start_time": "2024-01-30T00:52:08.285657Z"
    }
   },
   "id": "da11eada0fa06bc5"
  },
  {
   "cell_type": "markdown",
   "source": [
    "To no surprise, Toronto Ultra and Atlanta Faze have the 2 highest map win % (80% and 72%). As they were the two teams in the finals at Major 1"
   ],
   "metadata": {
    "collapsed": false
   },
   "id": "2e3776dfa29833c0"
  },
  {
   "cell_type": "code",
   "execution_count": 6,
   "outputs": [
    {
     "data": {
      "text/plain": "            Team Map Win % HP Win % SND Win % Control Win %\n0          Ultra       80%      94%       67%           70%\n11       Thieves       33%       8%       44%           63%\n4          Optic       55%      70%       33%           58%\n1           Faze       72%      58%       92%           73%\n2       Heretics       56%      54%       50%           67%\n10  Royal Ravens       33%      50%       15%           33%\n3      Subliners       56%      47%       75%           44%\n8     Guerrillas       40%      47%       29%           45%\n5          Rokkr       47%      44%       50%           45%\n7         Breach       42%      43%       27%           63%\n9         Legion       38%      40%       46%           22%\n6          Surge       43%      35%       73%           18%",
      "text/html": "<div>\n<style scoped>\n    .dataframe tbody tr th:only-of-type {\n        vertical-align: middle;\n    }\n\n    .dataframe tbody tr th {\n        vertical-align: top;\n    }\n\n    .dataframe thead th {\n        text-align: right;\n    }\n</style>\n<table border=\"1\" class=\"dataframe\">\n  <thead>\n    <tr style=\"text-align: right;\">\n      <th></th>\n      <th>Team</th>\n      <th>Map Win %</th>\n      <th>HP Win %</th>\n      <th>SND Win %</th>\n      <th>Control Win %</th>\n    </tr>\n  </thead>\n  <tbody>\n    <tr>\n      <th>0</th>\n      <td>Ultra</td>\n      <td>80%</td>\n      <td>94%</td>\n      <td>67%</td>\n      <td>70%</td>\n    </tr>\n    <tr>\n      <th>11</th>\n      <td>Thieves</td>\n      <td>33%</td>\n      <td>8%</td>\n      <td>44%</td>\n      <td>63%</td>\n    </tr>\n    <tr>\n      <th>4</th>\n      <td>Optic</td>\n      <td>55%</td>\n      <td>70%</td>\n      <td>33%</td>\n      <td>58%</td>\n    </tr>\n    <tr>\n      <th>1</th>\n      <td>Faze</td>\n      <td>72%</td>\n      <td>58%</td>\n      <td>92%</td>\n      <td>73%</td>\n    </tr>\n    <tr>\n      <th>2</th>\n      <td>Heretics</td>\n      <td>56%</td>\n      <td>54%</td>\n      <td>50%</td>\n      <td>67%</td>\n    </tr>\n    <tr>\n      <th>10</th>\n      <td>Royal Ravens</td>\n      <td>33%</td>\n      <td>50%</td>\n      <td>15%</td>\n      <td>33%</td>\n    </tr>\n    <tr>\n      <th>3</th>\n      <td>Subliners</td>\n      <td>56%</td>\n      <td>47%</td>\n      <td>75%</td>\n      <td>44%</td>\n    </tr>\n    <tr>\n      <th>8</th>\n      <td>Guerrillas</td>\n      <td>40%</td>\n      <td>47%</td>\n      <td>29%</td>\n      <td>45%</td>\n    </tr>\n    <tr>\n      <th>5</th>\n      <td>Rokkr</td>\n      <td>47%</td>\n      <td>44%</td>\n      <td>50%</td>\n      <td>45%</td>\n    </tr>\n    <tr>\n      <th>7</th>\n      <td>Breach</td>\n      <td>42%</td>\n      <td>43%</td>\n      <td>27%</td>\n      <td>63%</td>\n    </tr>\n    <tr>\n      <th>9</th>\n      <td>Legion</td>\n      <td>38%</td>\n      <td>40%</td>\n      <td>46%</td>\n      <td>22%</td>\n    </tr>\n    <tr>\n      <th>6</th>\n      <td>Surge</td>\n      <td>43%</td>\n      <td>35%</td>\n      <td>73%</td>\n      <td>18%</td>\n    </tr>\n  </tbody>\n</table>\n</div>"
     },
     "execution_count": 6,
     "metadata": {},
     "output_type": "execute_result"
    }
   ],
   "source": [
    "team_overall.sort_values('HP Win %', ascending=False)"
   ],
   "metadata": {
    "collapsed": false,
    "ExecuteTime": {
     "end_time": "2024-01-30T00:54:43.429101Z",
     "start_time": "2024-01-30T00:54:43.425514Z"
    }
   },
   "id": "dc75ad89b29034b7"
  },
  {
   "cell_type": "markdown",
   "source": [
    "Hardpoint being one of the most important game modes shows why here. The top 3 HP Winning teams were the top 3 teams at Major 1. Ultra with a mind boggling 94% map win in HP means they are starting almost every series up 1-0, which leaves them in a positive momentum heading into map two."
   ],
   "metadata": {
    "collapsed": false
   },
   "id": "a7ed209dec26c6d9"
  },
  {
   "cell_type": "code",
   "execution_count": 7,
   "outputs": [
    {
     "data": {
      "text/plain": "            Team Map Win % HP Win % SND Win % Control Win %\n1           Faze       72%      58%       92%           73%\n3      Subliners       56%      47%       75%           44%\n6          Surge       43%      35%       73%           18%\n0          Ultra       80%      94%       67%           70%\n2       Heretics       56%      54%       50%           67%\n5          Rokkr       47%      44%       50%           45%\n9         Legion       38%      40%       46%           22%\n11       Thieves       33%       8%       44%           63%\n4          Optic       55%      70%       33%           58%\n8     Guerrillas       40%      47%       29%           45%\n7         Breach       42%      43%       27%           63%\n10  Royal Ravens       33%      50%       15%           33%",
      "text/html": "<div>\n<style scoped>\n    .dataframe tbody tr th:only-of-type {\n        vertical-align: middle;\n    }\n\n    .dataframe tbody tr th {\n        vertical-align: top;\n    }\n\n    .dataframe thead th {\n        text-align: right;\n    }\n</style>\n<table border=\"1\" class=\"dataframe\">\n  <thead>\n    <tr style=\"text-align: right;\">\n      <th></th>\n      <th>Team</th>\n      <th>Map Win %</th>\n      <th>HP Win %</th>\n      <th>SND Win %</th>\n      <th>Control Win %</th>\n    </tr>\n  </thead>\n  <tbody>\n    <tr>\n      <th>1</th>\n      <td>Faze</td>\n      <td>72%</td>\n      <td>58%</td>\n      <td>92%</td>\n      <td>73%</td>\n    </tr>\n    <tr>\n      <th>3</th>\n      <td>Subliners</td>\n      <td>56%</td>\n      <td>47%</td>\n      <td>75%</td>\n      <td>44%</td>\n    </tr>\n    <tr>\n      <th>6</th>\n      <td>Surge</td>\n      <td>43%</td>\n      <td>35%</td>\n      <td>73%</td>\n      <td>18%</td>\n    </tr>\n    <tr>\n      <th>0</th>\n      <td>Ultra</td>\n      <td>80%</td>\n      <td>94%</td>\n      <td>67%</td>\n      <td>70%</td>\n    </tr>\n    <tr>\n      <th>2</th>\n      <td>Heretics</td>\n      <td>56%</td>\n      <td>54%</td>\n      <td>50%</td>\n      <td>67%</td>\n    </tr>\n    <tr>\n      <th>5</th>\n      <td>Rokkr</td>\n      <td>47%</td>\n      <td>44%</td>\n      <td>50%</td>\n      <td>45%</td>\n    </tr>\n    <tr>\n      <th>9</th>\n      <td>Legion</td>\n      <td>38%</td>\n      <td>40%</td>\n      <td>46%</td>\n      <td>22%</td>\n    </tr>\n    <tr>\n      <th>11</th>\n      <td>Thieves</td>\n      <td>33%</td>\n      <td>8%</td>\n      <td>44%</td>\n      <td>63%</td>\n    </tr>\n    <tr>\n      <th>4</th>\n      <td>Optic</td>\n      <td>55%</td>\n      <td>70%</td>\n      <td>33%</td>\n      <td>58%</td>\n    </tr>\n    <tr>\n      <th>8</th>\n      <td>Guerrillas</td>\n      <td>40%</td>\n      <td>47%</td>\n      <td>29%</td>\n      <td>45%</td>\n    </tr>\n    <tr>\n      <th>7</th>\n      <td>Breach</td>\n      <td>42%</td>\n      <td>43%</td>\n      <td>27%</td>\n      <td>63%</td>\n    </tr>\n    <tr>\n      <th>10</th>\n      <td>Royal Ravens</td>\n      <td>33%</td>\n      <td>50%</td>\n      <td>15%</td>\n      <td>33%</td>\n    </tr>\n  </tbody>\n</table>\n</div>"
     },
     "execution_count": 7,
     "metadata": {},
     "output_type": "execute_result"
    }
   ],
   "source": [
    "team_overall.sort_values('SND Win %', ascending=False)"
   ],
   "metadata": {
    "collapsed": false,
    "ExecuteTime": {
     "end_time": "2024-01-30T00:59:02.624399Z",
     "start_time": "2024-01-30T00:59:02.620806Z"
    }
   },
   "id": "aaaceb4b8d4aac6b"
  },
  {
   "cell_type": "markdown",
   "source": [
    "SnD is right up there with HP as the most important game mode in the game. If you are going to be weak in HP you have to be good at SnD to stand a chance in this league. And Faze shows just that, with a staggering 92% SnD map win over Major 1. Faze was able to hold a 58% and 73% map win in HP and control, respectively. Now we can see the 2nd highest SnD winning team this major was the Subliners, which finished dead last in 12th. This is because their HP and Control map win % is below 50%. Same with Surge, not a bad SnD win %, but with HP and control map wins being so low, it is hard to stay afloat in matches."
   ],
   "metadata": {
    "collapsed": false
   },
   "id": "890d8b0c89e1283f"
  },
  {
   "cell_type": "code",
   "execution_count": 8,
   "outputs": [
    {
     "data": {
      "text/plain": "            Team Map Win % HP Win % SND Win % Control Win %\n1           Faze       72%      58%       92%           73%\n0          Ultra       80%      94%       67%           70%\n2       Heretics       56%      54%       50%           67%\n7         Breach       42%      43%       27%           63%\n11       Thieves       33%       8%       44%           63%\n4          Optic       55%      70%       33%           58%\n5          Rokkr       47%      44%       50%           45%\n8     Guerrillas       40%      47%       29%           45%\n3      Subliners       56%      47%       75%           44%\n10  Royal Ravens       33%      50%       15%           33%\n9         Legion       38%      40%       46%           22%\n6          Surge       43%      35%       73%           18%",
      "text/html": "<div>\n<style scoped>\n    .dataframe tbody tr th:only-of-type {\n        vertical-align: middle;\n    }\n\n    .dataframe tbody tr th {\n        vertical-align: top;\n    }\n\n    .dataframe thead th {\n        text-align: right;\n    }\n</style>\n<table border=\"1\" class=\"dataframe\">\n  <thead>\n    <tr style=\"text-align: right;\">\n      <th></th>\n      <th>Team</th>\n      <th>Map Win %</th>\n      <th>HP Win %</th>\n      <th>SND Win %</th>\n      <th>Control Win %</th>\n    </tr>\n  </thead>\n  <tbody>\n    <tr>\n      <th>1</th>\n      <td>Faze</td>\n      <td>72%</td>\n      <td>58%</td>\n      <td>92%</td>\n      <td>73%</td>\n    </tr>\n    <tr>\n      <th>0</th>\n      <td>Ultra</td>\n      <td>80%</td>\n      <td>94%</td>\n      <td>67%</td>\n      <td>70%</td>\n    </tr>\n    <tr>\n      <th>2</th>\n      <td>Heretics</td>\n      <td>56%</td>\n      <td>54%</td>\n      <td>50%</td>\n      <td>67%</td>\n    </tr>\n    <tr>\n      <th>7</th>\n      <td>Breach</td>\n      <td>42%</td>\n      <td>43%</td>\n      <td>27%</td>\n      <td>63%</td>\n    </tr>\n    <tr>\n      <th>11</th>\n      <td>Thieves</td>\n      <td>33%</td>\n      <td>8%</td>\n      <td>44%</td>\n      <td>63%</td>\n    </tr>\n    <tr>\n      <th>4</th>\n      <td>Optic</td>\n      <td>55%</td>\n      <td>70%</td>\n      <td>33%</td>\n      <td>58%</td>\n    </tr>\n    <tr>\n      <th>5</th>\n      <td>Rokkr</td>\n      <td>47%</td>\n      <td>44%</td>\n      <td>50%</td>\n      <td>45%</td>\n    </tr>\n    <tr>\n      <th>8</th>\n      <td>Guerrillas</td>\n      <td>40%</td>\n      <td>47%</td>\n      <td>29%</td>\n      <td>45%</td>\n    </tr>\n    <tr>\n      <th>3</th>\n      <td>Subliners</td>\n      <td>56%</td>\n      <td>47%</td>\n      <td>75%</td>\n      <td>44%</td>\n    </tr>\n    <tr>\n      <th>10</th>\n      <td>Royal Ravens</td>\n      <td>33%</td>\n      <td>50%</td>\n      <td>15%</td>\n      <td>33%</td>\n    </tr>\n    <tr>\n      <th>9</th>\n      <td>Legion</td>\n      <td>38%</td>\n      <td>40%</td>\n      <td>46%</td>\n      <td>22%</td>\n    </tr>\n    <tr>\n      <th>6</th>\n      <td>Surge</td>\n      <td>43%</td>\n      <td>35%</td>\n      <td>73%</td>\n      <td>18%</td>\n    </tr>\n  </tbody>\n</table>\n</div>"
     },
     "execution_count": 8,
     "metadata": {},
     "output_type": "execute_result"
    }
   ],
   "source": [
    "team_overall.sort_values('Control Win %', ascending=False)"
   ],
   "metadata": {
    "collapsed": false,
    "ExecuteTime": {
     "end_time": "2024-01-30T01:05:59.021412Z",
     "start_time": "2024-01-30T01:05:59.013773Z"
    }
   },
   "id": "ac1ccd702c3346a9"
  },
  {
   "cell_type": "markdown",
   "source": [
    "In my opinion, control is the least important game mode, but it does hold some value for one specific reason. It can help you stay alive in a series of 5. With it being the 3rd game mode in every series, if a team finds themself down 0-2, they can use control as a chance to reset the series and shift the momentum back on their side. The data shows that with Faze and Ultra being the two winning-est control teams, which shows that their is significance in winning control. Heretics, Breach, and Thieves being 2-4 also shows the counter to that last point. That if you dont have another strong game mode then being a good control team is useless."
   ],
   "metadata": {
    "collapsed": false
   },
   "id": "4ce7f520f359a0be"
  },
  {
   "cell_type": "code",
   "execution_count": null,
   "outputs": [],
   "source": [],
   "metadata": {
    "collapsed": false
   },
   "id": "92186df4066906ef"
  }
 ],
 "metadata": {
  "kernelspec": {
   "display_name": "Python 3",
   "language": "python",
   "name": "python3"
  },
  "language_info": {
   "codemirror_mode": {
    "name": "ipython",
    "version": 2
   },
   "file_extension": ".py",
   "mimetype": "text/x-python",
   "name": "python",
   "nbconvert_exporter": "python",
   "pygments_lexer": "ipython2",
   "version": "2.7.6"
  }
 },
 "nbformat": 4,
 "nbformat_minor": 5
}
